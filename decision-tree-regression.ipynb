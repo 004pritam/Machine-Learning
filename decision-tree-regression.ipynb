{
 "cells": [
  {
   "cell_type": "code",
   "execution_count": 1,
   "id": "wound-breakfast",
   "metadata": {
    "_cell_guid": "b1076dfc-b9ad-4769-8c92-a6c4dae69d19",
    "_uuid": "8f2839f25d086af736a60e9eeb907d3b93b6e0e5",
    "execution": {
     "iopub.execute_input": "2021-06-27T10:13:59.236310Z",
     "iopub.status.busy": "2021-06-27T10:13:59.234498Z",
     "iopub.status.idle": "2021-06-27T10:13:59.250817Z",
     "shell.execute_reply": "2021-06-27T10:13:59.251492Z",
     "shell.execute_reply.started": "2021-06-27T10:13:14.092477Z"
    },
    "papermill": {
     "duration": 0.035056,
     "end_time": "2021-06-27T10:13:59.251791",
     "exception": false,
     "start_time": "2021-06-27T10:13:59.216735",
     "status": "completed"
    },
    "tags": []
   },
   "outputs": [
    {
     "name": "stdout",
     "output_type": "stream",
     "text": [
      "/kaggle/input/icecream/icecream (1).csv\n"
     ]
    }
   ],
   "source": [
    "# This Python 3 environment comes with many helpful analytics libraries installed\n",
    "# It is defined by the kaggle/python Docker image: https://github.com/kaggle/docker-python\n",
    "# For example, here's several helpful packages to load\n",
    "\n",
    "import numpy as np # linear algebra\n",
    "import pandas as pd # data processing, CSV file I/O (e.g. pd.read_csv)\n",
    "\n",
    "# Input data files are available in the read-only \"../input/\" directory\n",
    "# For example, running this (by clicking run or pressing Shift+Enter) will list all files under the input directory\n",
    "\n",
    "import os\n",
    "for dirname, _, filenames in os.walk('/kaggle/input'):\n",
    "    for filename in filenames:\n",
    "        print(os.path.join(dirname, filename))\n",
    "\n",
    "# You can write up to 20GB to the current directory (/kaggle/working/) that gets preserved as output when you create a version using \"Save & Run All\" \n",
    "# You can also write temporary files to /kaggle/temp/, but they won't be saved outside of the current session"
   ]
  },
  {
   "cell_type": "code",
   "execution_count": 2,
   "id": "posted-management",
   "metadata": {
    "execution": {
     "iopub.execute_input": "2021-06-27T10:13:59.283359Z",
     "iopub.status.busy": "2021-06-27T10:13:59.282631Z",
     "iopub.status.idle": "2021-06-27T10:13:59.286772Z",
     "shell.execute_reply": "2021-06-27T10:13:59.286234Z",
     "shell.execute_reply.started": "2021-06-27T10:13:14.114107Z"
    },
    "papermill": {
     "duration": 0.021993,
     "end_time": "2021-06-27T10:13:59.286908",
     "exception": false,
     "start_time": "2021-06-27T10:13:59.264915",
     "status": "completed"
    },
    "tags": []
   },
   "outputs": [],
   "source": [
    "import numpy as np\n",
    "import pandas as pd\n",
    "import matplotlib.pyplot as plt"
   ]
  },
  {
   "cell_type": "code",
   "execution_count": 3,
   "id": "animated-broadcast",
   "metadata": {
    "execution": {
     "iopub.execute_input": "2021-06-27T10:13:59.317705Z",
     "iopub.status.busy": "2021-06-27T10:13:59.317026Z",
     "iopub.status.idle": "2021-06-27T10:13:59.358709Z",
     "shell.execute_reply": "2021-06-27T10:13:59.358061Z",
     "shell.execute_reply.started": "2021-06-27T10:13:14.119905Z"
    },
    "papermill": {
     "duration": 0.059718,
     "end_time": "2021-06-27T10:13:59.359200",
     "exception": false,
     "start_time": "2021-06-27T10:13:59.299482",
     "status": "completed"
    },
    "tags": []
   },
   "outputs": [
    {
     "data": {
      "text/html": [
       "<div>\n",
       "<style scoped>\n",
       "    .dataframe tbody tr th:only-of-type {\n",
       "        vertical-align: middle;\n",
       "    }\n",
       "\n",
       "    .dataframe tbody tr th {\n",
       "        vertical-align: top;\n",
       "    }\n",
       "\n",
       "    .dataframe thead th {\n",
       "        text-align: right;\n",
       "    }\n",
       "</style>\n",
       "<table border=\"1\" class=\"dataframe\">\n",
       "  <thead>\n",
       "    <tr style=\"text-align: right;\">\n",
       "      <th></th>\n",
       "      <th>Temperature</th>\n",
       "      <th>Revenue</th>\n",
       "    </tr>\n",
       "  </thead>\n",
       "  <tbody>\n",
       "    <tr>\n",
       "      <th>0</th>\n",
       "      <td>24.566884</td>\n",
       "      <td>534.799028</td>\n",
       "    </tr>\n",
       "    <tr>\n",
       "      <th>1</th>\n",
       "      <td>26.005191</td>\n",
       "      <td>625.190122</td>\n",
       "    </tr>\n",
       "    <tr>\n",
       "      <th>2</th>\n",
       "      <td>27.790554</td>\n",
       "      <td>660.632289</td>\n",
       "    </tr>\n",
       "    <tr>\n",
       "      <th>3</th>\n",
       "      <td>20.595335</td>\n",
       "      <td>487.706960</td>\n",
       "    </tr>\n",
       "    <tr>\n",
       "      <th>4</th>\n",
       "      <td>11.503498</td>\n",
       "      <td>316.240194</td>\n",
       "    </tr>\n",
       "  </tbody>\n",
       "</table>\n",
       "</div>"
      ],
      "text/plain": [
       "   Temperature     Revenue\n",
       "0    24.566884  534.799028\n",
       "1    26.005191  625.190122\n",
       "2    27.790554  660.632289\n",
       "3    20.595335  487.706960\n",
       "4    11.503498  316.240194"
      ]
     },
     "execution_count": 3,
     "metadata": {},
     "output_type": "execute_result"
    }
   ],
   "source": [
    "data = pd.read_csv('../input/icecream/icecream (1).csv')\n",
    "data.head()"
   ]
  },
  {
   "cell_type": "code",
   "execution_count": 4,
   "id": "dedicated-memory",
   "metadata": {
    "execution": {
     "iopub.execute_input": "2021-06-27T10:13:59.397965Z",
     "iopub.status.busy": "2021-06-27T10:13:59.397011Z",
     "iopub.status.idle": "2021-06-27T10:13:59.421710Z",
     "shell.execute_reply": "2021-06-27T10:13:59.422544Z",
     "shell.execute_reply.started": "2021-06-27T10:13:14.143468Z"
    },
    "papermill": {
     "duration": 0.049364,
     "end_time": "2021-06-27T10:13:59.422805",
     "exception": false,
     "start_time": "2021-06-27T10:13:59.373441",
     "status": "completed"
    },
    "tags": []
   },
   "outputs": [
    {
     "data": {
      "text/html": [
       "<div>\n",
       "<style scoped>\n",
       "    .dataframe tbody tr th:only-of-type {\n",
       "        vertical-align: middle;\n",
       "    }\n",
       "\n",
       "    .dataframe tbody tr th {\n",
       "        vertical-align: top;\n",
       "    }\n",
       "\n",
       "    .dataframe thead th {\n",
       "        text-align: right;\n",
       "    }\n",
       "</style>\n",
       "<table border=\"1\" class=\"dataframe\">\n",
       "  <thead>\n",
       "    <tr style=\"text-align: right;\">\n",
       "      <th></th>\n",
       "      <th>Temperature</th>\n",
       "      <th>Revenue</th>\n",
       "    </tr>\n",
       "  </thead>\n",
       "  <tbody>\n",
       "    <tr>\n",
       "      <th>count</th>\n",
       "      <td>500.000000</td>\n",
       "      <td>500.000000</td>\n",
       "    </tr>\n",
       "    <tr>\n",
       "      <th>mean</th>\n",
       "      <td>22.232225</td>\n",
       "      <td>521.570777</td>\n",
       "    </tr>\n",
       "    <tr>\n",
       "      <th>std</th>\n",
       "      <td>8.096388</td>\n",
       "      <td>175.404751</td>\n",
       "    </tr>\n",
       "    <tr>\n",
       "      <th>min</th>\n",
       "      <td>0.000000</td>\n",
       "      <td>10.000000</td>\n",
       "    </tr>\n",
       "    <tr>\n",
       "      <th>25%</th>\n",
       "      <td>17.122258</td>\n",
       "      <td>405.558681</td>\n",
       "    </tr>\n",
       "    <tr>\n",
       "      <th>50%</th>\n",
       "      <td>22.392791</td>\n",
       "      <td>529.368565</td>\n",
       "    </tr>\n",
       "    <tr>\n",
       "      <th>75%</th>\n",
       "      <td>27.740674</td>\n",
       "      <td>642.257922</td>\n",
       "    </tr>\n",
       "    <tr>\n",
       "      <th>max</th>\n",
       "      <td>45.000000</td>\n",
       "      <td>1000.000000</td>\n",
       "    </tr>\n",
       "  </tbody>\n",
       "</table>\n",
       "</div>"
      ],
      "text/plain": [
       "       Temperature      Revenue\n",
       "count   500.000000   500.000000\n",
       "mean     22.232225   521.570777\n",
       "std       8.096388   175.404751\n",
       "min       0.000000    10.000000\n",
       "25%      17.122258   405.558681\n",
       "50%      22.392791   529.368565\n",
       "75%      27.740674   642.257922\n",
       "max      45.000000  1000.000000"
      ]
     },
     "execution_count": 4,
     "metadata": {},
     "output_type": "execute_result"
    }
   ],
   "source": [
    "data.describe()"
   ]
  },
  {
   "cell_type": "code",
   "execution_count": 5,
   "id": "distant-county",
   "metadata": {
    "execution": {
     "iopub.execute_input": "2021-06-27T10:13:59.456970Z",
     "iopub.status.busy": "2021-06-27T10:13:59.456294Z",
     "iopub.status.idle": "2021-06-27T10:13:59.461526Z",
     "shell.execute_reply": "2021-06-27T10:13:59.462044Z",
     "shell.execute_reply.started": "2021-06-27T10:13:14.159035Z"
    },
    "papermill": {
     "duration": 0.023133,
     "end_time": "2021-06-27T10:13:59.462265",
     "exception": false,
     "start_time": "2021-06-27T10:13:59.439132",
     "status": "completed"
    },
    "tags": []
   },
   "outputs": [],
   "source": [
    "# numpy arrays\n",
    "X = data['Temperature'].values\n",
    "y = data['Revenue'].values"
   ]
  },
  {
   "cell_type": "code",
   "execution_count": 6,
   "id": "unlike-copying",
   "metadata": {
    "execution": {
     "iopub.execute_input": "2021-06-27T10:13:59.494534Z",
     "iopub.status.busy": "2021-06-27T10:13:59.493757Z",
     "iopub.status.idle": "2021-06-27T10:14:01.014357Z",
     "shell.execute_reply": "2021-06-27T10:14:01.013584Z",
     "shell.execute_reply.started": "2021-06-27T10:13:14.164416Z"
    },
    "papermill": {
     "duration": 1.538063,
     "end_time": "2021-06-27T10:14:01.014537",
     "exception": false,
     "start_time": "2021-06-27T10:13:59.476474",
     "status": "completed"
    },
    "tags": []
   },
   "outputs": [],
   "source": [
    "from sklearn.model_selection import train_test_split\n",
    "from sklearn.tree import DecisionTreeRegressor"
   ]
  },
  {
   "cell_type": "markdown",
   "id": "useful-gather",
   "metadata": {
    "papermill": {
     "duration": 0.013041,
     "end_time": "2021-06-27T10:14:01.041742",
     "exception": false,
     "start_time": "2021-06-27T10:14:01.028701",
     "status": "completed"
    },
    "tags": []
   },
   "source": [
    "## Splitting data into Training and Testing"
   ]
  },
  {
   "cell_type": "code",
   "execution_count": 7,
   "id": "italic-dependence",
   "metadata": {
    "execution": {
     "iopub.execute_input": "2021-06-27T10:14:01.076352Z",
     "iopub.status.busy": "2021-06-27T10:14:01.075659Z",
     "iopub.status.idle": "2021-06-27T10:14:01.079546Z",
     "shell.execute_reply": "2021-06-27T10:14:01.078860Z",
     "shell.execute_reply.started": "2021-06-27T10:13:14.175251Z"
    },
    "papermill": {
     "duration": 0.02464,
     "end_time": "2021-06-27T10:14:01.079707",
     "exception": false,
     "start_time": "2021-06-27T10:14:01.055067",
     "status": "completed"
    },
    "tags": []
   },
   "outputs": [],
   "source": [
    "X_train, X_test, y_train, y_test = train_test_split(X,y, random_state = 0)"
   ]
  },
  {
   "cell_type": "code",
   "execution_count": 8,
   "id": "auburn-marine",
   "metadata": {
    "execution": {
     "iopub.execute_input": "2021-06-27T10:14:01.116058Z",
     "iopub.status.busy": "2021-06-27T10:14:01.115378Z",
     "iopub.status.idle": "2021-06-27T10:14:01.123353Z",
     "shell.execute_reply": "2021-06-27T10:14:01.124004Z",
     "shell.execute_reply.started": "2021-06-27T10:13:14.188765Z"
    },
    "papermill": {
     "duration": 0.028825,
     "end_time": "2021-06-27T10:14:01.124224",
     "exception": false,
     "start_time": "2021-06-27T10:14:01.095399",
     "status": "completed"
    },
    "tags": []
   },
   "outputs": [
    {
     "data": {
      "text/plain": [
       "DecisionTreeRegressor()"
      ]
     },
     "execution_count": 8,
     "metadata": {},
     "output_type": "execute_result"
    }
   ],
   "source": [
    "X_train = X_train.reshape(-1,1)\n",
    "y_train = y_train.reshape(-1,1)\n",
    "regressor = DecisionTreeRegressor()\n",
    "regressor.fit(X_train, y_train)"
   ]
  },
  {
   "cell_type": "code",
   "execution_count": 9,
   "id": "focused-depression",
   "metadata": {
    "execution": {
     "iopub.execute_input": "2021-06-27T10:14:01.157330Z",
     "iopub.status.busy": "2021-06-27T10:14:01.156329Z",
     "iopub.status.idle": "2021-06-27T10:14:01.166267Z",
     "shell.execute_reply": "2021-06-27T10:14:01.166710Z",
     "shell.execute_reply.started": "2021-06-27T10:13:14.207851Z"
    },
    "papermill": {
     "duration": 0.028095,
     "end_time": "2021-06-27T10:14:01.166921",
     "exception": false,
     "start_time": "2021-06-27T10:14:01.138826",
     "status": "completed"
    },
    "tags": []
   },
   "outputs": [
    {
     "data": {
      "text/plain": [
       "array([690.7892959 , 639.5380115 , 682.8085663 , 475.2133537 ,\n",
       "       655.6603879 , 427.2113597 , 571.4342569 , 643.6486011 ,\n",
       "       655.6603879 , 458.860905  , 501.34533   , 443.1136034 ,\n",
       "       654.1974057 , 402.4553204 , 367.0523757 , 921.508275  ,\n",
       "       905.4776043 , 691.9580059 , 501.34533   , 402.7931738 ,\n",
       "       383.9562396 , 621.9692088 , 278.7319615 , 726.2337713 ,\n",
       "       402.4553204 , 441.5087331 , 356.0980075 , 505.7438672 ,\n",
       "       437.2519927 , 459.7353497 , 651.5043041 , 280.5184674 ,\n",
       "       306.0907189 , 496.0112948 , 578.3604354 , 543.5995933 ,\n",
       "       319.4029032 , 545.9039291 , 538.31289   , 711.1740653 ,\n",
       "       437.8287103 , 499.4583433 , 565.8749999 , 467.631063  ,\n",
       "       926.0671533 , 570.5778753 , 543.5995933 , 216.183462  ,\n",
       "       691.9580059 , 334.4337199 , 221.400252  , 594.8048712 ,\n",
       "       212.4835594 , 448.9304429 , 429.4357021 , 402.3984607 ,\n",
       "       503.0842679 , 809.6720534 , 344.6887652 , 543.5995933 ,\n",
       "       631.3182368 , 507.900282  , 381.8030138 , 454.1892673 ,\n",
       "       634.5847506 , 228.9010303 , 316.2401944 , 566.2173038 ,\n",
       "       607.8391938 , 633.5040087 , 759.3774317 , 190.7109408 ,\n",
       "       591.1733898 , 242.5098553 , 425.0120182 , 646.2669458 ,\n",
       "       682.8085663 , 541.2936627 , 756.9625616 , 402.7931738 ,\n",
       "       186.4764868 , 827.6848313 , 473.5681122 , 335.8156867 ,\n",
       "       666.1368355 , 574.7106486 , 415.8176744 , 655.4339792 ,\n",
       "       850.2469822 , 321.7500343 , 598.6761971 ,  32.54661902,\n",
       "       935.7172907 , 634.5847506 , 756.0377021 , 483.3330784 ,\n",
       "       756.0377021 , 702.6236136 , 394.1686196 , 578.3604354 ,\n",
       "       402.4553204 , 496.0112948 , 648.5546445 , 534.6228653 ,\n",
       "       289.5409341 , 343.3629045 , 737.8008241 , 542.8391063 ,\n",
       "       212.4835594 , 493.2266364 , 564.3105317 , 706.3649044 ,\n",
       "       607.8391938 ,  32.54661902, 321.8482734 , 562.7924633 ,\n",
       "       678.7513876 , 537.7661123 , 566.2173038 , 401.9247923 ,\n",
       "       604.6266727 , 746.9463889 , 191.6233119 , 565.8749999 ,\n",
       "       921.508275  ])"
      ]
     },
     "execution_count": 9,
     "metadata": {},
     "output_type": "execute_result"
    }
   ],
   "source": [
    "X_test = X_test.reshape(-1,1)\n",
    "y_test = y_test.reshape(-1,1)\n",
    "y_pred = regressor.predict(X_test)\n",
    "regressor.predict(X_test)"
   ]
  },
  {
   "cell_type": "markdown",
   "id": "current-nickel",
   "metadata": {
    "papermill": {
     "duration": 0.014177,
     "end_time": "2021-06-27T10:14:01.195574",
     "exception": false,
     "start_time": "2021-06-27T10:14:01.181397",
     "status": "completed"
    },
    "tags": []
   },
   "source": [
    "## Prediction Score"
   ]
  },
  {
   "cell_type": "code",
   "execution_count": 10,
   "id": "cheap-comfort",
   "metadata": {
    "execution": {
     "iopub.execute_input": "2021-06-27T10:14:01.229066Z",
     "iopub.status.busy": "2021-06-27T10:14:01.227991Z",
     "iopub.status.idle": "2021-06-27T10:14:01.236618Z",
     "shell.execute_reply": "2021-06-27T10:14:01.236042Z",
     "shell.execute_reply.started": "2021-06-27T10:13:14.275875Z"
    },
    "papermill": {
     "duration": 0.026551,
     "end_time": "2021-06-27T10:14:01.236781",
     "exception": false,
     "start_time": "2021-06-27T10:14:01.210230",
     "status": "completed"
    },
    "tags": []
   },
   "outputs": [
    {
     "name": "stdout",
     "output_type": "stream",
     "text": [
      "Prediction score = 96.43 %\n"
     ]
    }
   ],
   "source": [
    "print(\"Prediction score = \"+ str(round((regressor.score(X_test,y_test)* 100),2)) + \" %\")"
   ]
  },
  {
   "cell_type": "code",
   "execution_count": 11,
   "id": "narrow-brazilian",
   "metadata": {
    "execution": {
     "iopub.execute_input": "2021-06-27T10:14:01.283335Z",
     "iopub.status.busy": "2021-06-27T10:14:01.279435Z",
     "iopub.status.idle": "2021-06-27T10:14:01.483542Z",
     "shell.execute_reply": "2021-06-27T10:14:01.482817Z",
     "shell.execute_reply.started": "2021-06-27T10:13:14.283151Z"
    },
    "papermill": {
     "duration": 0.232089,
     "end_time": "2021-06-27T10:14:01.483698",
     "exception": false,
     "start_time": "2021-06-27T10:14:01.251609",
     "status": "completed"
    },
    "tags": []
   },
   "outputs": [
    {
     "data": {
      "text/plain": [
       "Text(0, 0.5, 'Revenue')"
      ]
     },
     "execution_count": 11,
     "metadata": {},
     "output_type": "execute_result"
    },
    {
     "data": {
      "image/png": "[encoded data removed]",
      "text/plain": [
       "<Figure size 432x288 with 1 Axes>"
      ]
     },
     "metadata": {
      "needs_background": "light"
     },
     "output_type": "display_data"
    }
   ],
   "source": [
    "plt.scatter(X_test, y_test, color = 'red')\n",
    "plt.scatter(X_test, y_pred, color = 'green')\n",
    "plt.title('Decision Tree Regression')\n",
    "plt.xlabel('Temperature')\n",
    "plt.ylabel('Revenue')"
   ]
  },
  {
   "cell_type": "markdown",
   "id": "comfortable-racing",
   "metadata": {
    "papermill": {
     "duration": 0.015622,
     "end_time": "2021-06-27T10:14:01.515491",
     "exception": false,
     "start_time": "2021-06-27T10:14:01.499869",
     "status": "completed"
    },
    "tags": []
   },
   "source": [
    "## Comparing Real values and Predicted values"
   ]
  },
  {
   "cell_type": "code",
   "execution_count": 12,
   "id": "liberal-database",
   "metadata": {
    "execution": {
     "iopub.execute_input": "2021-06-27T10:14:01.560951Z",
     "iopub.status.busy": "2021-06-27T10:14:01.559820Z",
     "iopub.status.idle": "2021-06-27T10:14:01.565037Z",
     "shell.execute_reply": "2021-06-27T10:14:01.564462Z",
     "shell.execute_reply.started": "2021-06-27T10:13:14.418118Z"
    },
    "papermill": {
     "duration": 0.03368,
     "end_time": "2021-06-27T10:14:01.565206",
     "exception": false,
     "start_time": "2021-06-27T10:14:01.531526",
     "status": "completed"
    },
    "tags": []
   },
   "outputs": [
    {
     "data": {
      "text/html": [
       "<div>\n",
       "<style scoped>\n",
       "    .dataframe tbody tr th:only-of-type {\n",
       "        vertical-align: middle;\n",
       "    }\n",
       "\n",
       "    .dataframe tbody tr th {\n",
       "        vertical-align: top;\n",
       "    }\n",
       "\n",
       "    .dataframe thead th {\n",
       "        text-align: right;\n",
       "    }\n",
       "</style>\n",
       "<table border=\"1\" class=\"dataframe\">\n",
       "  <thead>\n",
       "    <tr style=\"text-align: right;\">\n",
       "      <th></th>\n",
       "      <th>Real Values</th>\n",
       "      <th>Predicted Values</th>\n",
       "    </tr>\n",
       "  </thead>\n",
       "  <tbody>\n",
       "    <tr>\n",
       "      <th>0</th>\n",
       "      <td>704.281439</td>\n",
       "      <td>690.789296</td>\n",
       "    </tr>\n",
       "    <tr>\n",
       "      <th>1</th>\n",
       "      <td>632.901914</td>\n",
       "      <td>639.538012</td>\n",
       "    </tr>\n",
       "    <tr>\n",
       "      <th>2</th>\n",
       "      <td>662.558990</td>\n",
       "      <td>682.808566</td>\n",
       "    </tr>\n",
       "    <tr>\n",
       "      <th>3</th>\n",
       "      <td>449.813300</td>\n",
       "      <td>475.213354</td>\n",
       "    </tr>\n",
       "    <tr>\n",
       "      <th>4</th>\n",
       "      <td>636.298374</td>\n",
       "      <td>655.660388</td>\n",
       "    </tr>\n",
       "    <tr>\n",
       "      <th>5</th>\n",
       "      <td>469.909033</td>\n",
       "      <td>427.211360</td>\n",
       "    </tr>\n",
       "    <tr>\n",
       "      <th>6</th>\n",
       "      <td>587.221246</td>\n",
       "      <td>571.434257</td>\n",
       "    </tr>\n",
       "    <tr>\n",
       "      <th>7</th>\n",
       "      <td>581.074005</td>\n",
       "      <td>643.648601</td>\n",
       "    </tr>\n",
       "    <tr>\n",
       "      <th>8</th>\n",
       "      <td>675.828916</td>\n",
       "      <td>655.660388</td>\n",
       "    </tr>\n",
       "    <tr>\n",
       "      <th>9</th>\n",
       "      <td>493.710333</td>\n",
       "      <td>458.860905</td>\n",
       "    </tr>\n",
       "    <tr>\n",
       "      <th>10</th>\n",
       "      <td>506.432135</td>\n",
       "      <td>501.345330</td>\n",
       "    </tr>\n",
       "    <tr>\n",
       "      <th>11</th>\n",
       "      <td>427.138369</td>\n",
       "      <td>443.113603</td>\n",
       "    </tr>\n",
       "    <tr>\n",
       "      <th>12</th>\n",
       "      <td>644.488633</td>\n",
       "      <td>654.197406</td>\n",
       "    </tr>\n",
       "    <tr>\n",
       "      <th>13</th>\n",
       "      <td>350.629036</td>\n",
       "      <td>402.455320</td>\n",
       "    </tr>\n",
       "    <tr>\n",
       "      <th>14</th>\n",
       "      <td>366.247714</td>\n",
       "      <td>367.052376</td>\n",
       "    </tr>\n",
       "  </tbody>\n",
       "</table>\n",
       "</div>"
      ],
      "text/plain": [
       "    Real Values  Predicted Values\n",
       "0    704.281439        690.789296\n",
       "1    632.901914        639.538012\n",
       "2    662.558990        682.808566\n",
       "3    449.813300        475.213354\n",
       "4    636.298374        655.660388\n",
       "5    469.909033        427.211360\n",
       "6    587.221246        571.434257\n",
       "7    581.074005        643.648601\n",
       "8    675.828916        655.660388\n",
       "9    493.710333        458.860905\n",
       "10   506.432135        501.345330\n",
       "11   427.138369        443.113603\n",
       "12   644.488633        654.197406\n",
       "13   350.629036        402.455320\n",
       "14   366.247714        367.052376"
      ]
     },
     "execution_count": 12,
     "metadata": {},
     "output_type": "execute_result"
    }
   ],
   "source": [
    "df = pd.DataFrame({'Real Values':y_test.reshape(-1), 'Predicted Values':y_pred.reshape(-1)})\n",
    "df.head(15)"
   ]
  }
 ],
 "metadata": {
  "kernelspec": {
   "display_name": "Python 3",
   "language": "python",
   "name": "python3"
  },
  "language_info": {
   "codemirror_mode": {
    "name": "ipython",
    "version": 3
   },
   "file_extension": ".py",
   "mimetype": "text/x-python",
   "name": "python",
   "nbconvert_exporter": "python",
   "pygments_lexer": "ipython3",
   "version": "3.7.9"
  },
  "papermill": {
   "default_parameters": {},
   "duration": 9.465264,
   "end_time": "2021-06-27T10:14:02.294283",
   "environment_variables": {},
   "exception": null,
   "input_path": "__notebook__.ipynb",
   "output_path": "__notebook__.ipynb",
   "parameters": {},
   "start_time": "2021-06-27T10:13:52.829019",
   "version": "2.3.2"
  }
 },
 "nbformat": 4,
 "nbformat_minor": 5
}
