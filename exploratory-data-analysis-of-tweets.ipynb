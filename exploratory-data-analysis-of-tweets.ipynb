{
 "cells": [
  {
   "cell_type": "markdown",
   "id": "motivated-september",
   "metadata": {
    "papermill": {
     "duration": 0.016096,
     "end_time": "2021-04-25T13:07:33.269925",
     "exception": false,
     "start_time": "2021-04-25T13:07:33.253829",
     "status": "completed"
    },
    "tags": []
   },
   "source": [
    "# Exploratory Data analysis of #IndiaWantsOxygen tweets"
   ]
  },
  {
   "cell_type": "code",
   "execution_count": 1,
   "id": "furnished-speaking",
   "metadata": {
    "_cell_guid": "b1076dfc-b9ad-4769-8c92-a6c4dae69d19",
    "_uuid": "8f2839f25d086af736a60e9eeb907d3b93b6e0e5",
    "execution": {
     "iopub.execute_input": "2021-04-25T13:07:33.312361Z",
     "iopub.status.busy": "2021-04-25T13:07:33.311690Z",
     "iopub.status.idle": "2021-04-25T13:07:34.278928Z",
     "shell.execute_reply": "2021-04-25T13:07:34.277072Z"
    },
    "papermill": {
     "duration": 0.992719,
     "end_time": "2021-04-25T13:07:34.279186",
     "exception": false,
     "start_time": "2021-04-25T13:07:33.286467",
     "status": "completed"
    },
    "tags": []
   },
   "outputs": [
    {
     "name": "stdout",
     "output_type": "stream",
     "text": [
      "/kaggle/input/indianeedsoxygen-tweets/IndiaWantsOxygen.csv\n"
     ]
    }
   ],
   "source": [
    "# This Python 3 environment comes with many helpful analytics libraries installed\n",
    "# It is defined by the kaggle/python Docker image: https://github.com/kaggle/docker-python\n",
    "# For example, here's several helpful packages to load\n",
    "\n",
    "import numpy as np # linear algebra\n",
    "import pandas as pd # data processing, CSV file I/O (e.g. pd.read_csv)\n",
    "import matplotlib.pyplot as plt\n",
    "import seaborn as sns\n",
    "\n",
    "# Input data files are available in the read-only \"../input/\" directory\n",
    "# For example, running this (by clicking run or pressing Shift+Enter) will list all files under the input directory\n",
    "\n",
    "import os\n",
    "for dirname, _, filenames in os.walk('/kaggle/input'):\n",
    "    for filename in filenames:\n",
    "        print(os.path.join(dirname, filename))\n",
    "\n",
    "# You can write up to 20GB to the current directory (/kaggle/working/) that gets preserved as output when you create a version using \"Save & Run All\" \n",
    "# You can also write temporary files to /kaggle/temp/, but they won't be saved outside of the current session"
   ]
  },
  {
   "cell_type": "code",
   "execution_count": 2,
   "id": "flexible-lebanon",
   "metadata": {
    "execution": {
     "iopub.execute_input": "2021-04-25T13:07:34.333198Z",
     "iopub.status.busy": "2021-04-25T13:07:34.332231Z",
     "iopub.status.idle": "2021-04-25T13:07:34.777115Z",
     "shell.execute_reply": "2021-04-25T13:07:34.776532Z"
    },
    "papermill": {
     "duration": 0.476086,
     "end_time": "2021-04-25T13:07:34.777265",
     "exception": false,
     "start_time": "2021-04-25T13:07:34.301179",
     "status": "completed"
    },
    "tags": []
   },
   "outputs": [],
   "source": [
    "data = pd.read_csv('../input/indianeedsoxygen-tweets/IndiaWantsOxygen.csv')"
   ]
  },
  {
   "cell_type": "code",
   "execution_count": 3,
   "id": "resistant-trash",
   "metadata": {
    "execution": {
     "iopub.execute_input": "2021-04-25T13:07:34.818229Z",
     "iopub.status.busy": "2021-04-25T13:07:34.817315Z",
     "iopub.status.idle": "2021-04-25T13:07:34.822105Z",
     "shell.execute_reply": "2021-04-25T13:07:34.821471Z"
    },
    "papermill": {
     "duration": 0.028207,
     "end_time": "2021-04-25T13:07:34.822237",
     "exception": false,
     "start_time": "2021-04-25T13:07:34.794030",
     "status": "completed"
    },
    "tags": []
   },
   "outputs": [
    {
     "data": {
      "text/plain": [
       "(25347, 13)"
      ]
     },
     "execution_count": 3,
     "metadata": {},
     "output_type": "execute_result"
    }
   ],
   "source": [
    "data.shape"
   ]
  },
  {
   "cell_type": "code",
   "execution_count": 4,
   "id": "hidden-brief",
   "metadata": {
    "execution": {
     "iopub.execute_input": "2021-04-25T13:07:34.867552Z",
     "iopub.status.busy": "2021-04-25T13:07:34.866804Z",
     "iopub.status.idle": "2021-04-25T13:07:34.892391Z",
     "shell.execute_reply": "2021-04-25T13:07:34.891457Z"
    },
    "papermill": {
     "duration": 0.055577,
     "end_time": "2021-04-25T13:07:34.892652",
     "exception": false,
     "start_time": "2021-04-25T13:07:34.837075",
     "status": "completed"
    },
    "tags": []
   },
   "outputs": [
    {
     "data": {
      "text/html": [
       "<div>\n",
       "<style scoped>\n",
       "    .dataframe tbody tr th:only-of-type {\n",
       "        vertical-align: middle;\n",
       "    }\n",
       "\n",
       "    .dataframe tbody tr th {\n",
       "        vertical-align: top;\n",
       "    }\n",
       "\n",
       "    .dataframe thead th {\n",
       "        text-align: right;\n",
       "    }\n",
       "</style>\n",
       "<table border=\"1\" class=\"dataframe\">\n",
       "  <thead>\n",
       "    <tr style=\"text-align: right;\">\n",
       "      <th></th>\n",
       "      <th>user_name</th>\n",
       "      <th>user_location</th>\n",
       "      <th>user_description</th>\n",
       "      <th>user_created</th>\n",
       "      <th>user_followers</th>\n",
       "      <th>user_friends</th>\n",
       "      <th>user_favourites</th>\n",
       "      <th>user_verified</th>\n",
       "      <th>date</th>\n",
       "      <th>text</th>\n",
       "      <th>hashtags</th>\n",
       "      <th>source</th>\n",
       "      <th>is_retweet</th>\n",
       "    </tr>\n",
       "  </thead>\n",
       "  <tbody>\n",
       "    <tr>\n",
       "      <th>5037</th>\n",
       "      <td>Arsam Rasul</td>\n",
       "      <td>kasur</td>\n",
       "      <td>Out of context</td>\n",
       "      <td>2011-12-31 11:58:35</td>\n",
       "      <td>74</td>\n",
       "      <td>220</td>\n",
       "      <td>1028</td>\n",
       "      <td>False</td>\n",
       "      <td>2021-04-23 14:07:03</td>\n",
       "      <td>God please protect all humans. We really need ...</td>\n",
       "      <td>['IndiaNeedsOxygen', 'COVID19']</td>\n",
       "      <td>Twitter for Android</td>\n",
       "      <td>False</td>\n",
       "    </tr>\n",
       "    <tr>\n",
       "      <th>18078</th>\n",
       "      <td>Hafiza_S_Maryam_Zaidi</td>\n",
       "      <td>Karachi, Pakistan</td>\n",
       "      <td>When_Life_changes_To_Be_Harder✌️🖤\\nchange_your...</td>\n",
       "      <td>2021-01-16 10:01:33</td>\n",
       "      <td>303</td>\n",
       "      <td>680</td>\n",
       "      <td>544</td>\n",
       "      <td>False</td>\n",
       "      <td>2021-04-24 15:58:00</td>\n",
       "      <td>Pray for India 💔\\n#IndiaNeedsOxygen https://t....</td>\n",
       "      <td>['IndiaNeedsOxygen']</td>\n",
       "      <td>Twitter for Android</td>\n",
       "      <td>False</td>\n",
       "    </tr>\n",
       "    <tr>\n",
       "      <th>4995</th>\n",
       "      <td>Gargi Jain</td>\n",
       "      <td>India</td>\n",
       "      <td>|| Company Secretary || \\n|| Fashion, Beauty, ...</td>\n",
       "      <td>2013-06-28 15:15:57</td>\n",
       "      <td>230</td>\n",
       "      <td>39</td>\n",
       "      <td>2624</td>\n",
       "      <td>False</td>\n",
       "      <td>2021-04-23 14:13:37</td>\n",
       "      <td>Use this machine instead of searching for oxyg...</td>\n",
       "      <td>['Tocilizumab', 'Remdisivir', 'Verified', 'COV...</td>\n",
       "      <td>Twitter for Android</td>\n",
       "      <td>False</td>\n",
       "    </tr>\n",
       "    <tr>\n",
       "      <th>13366</th>\n",
       "      <td>S. Akbar Hussain</td>\n",
       "      <td>پاکستان</td>\n",
       "      <td>The more man realises his humanity the lonelie...</td>\n",
       "      <td>2013-03-07 04:51:58</td>\n",
       "      <td>311</td>\n",
       "      <td>1254</td>\n",
       "      <td>4107</td>\n",
       "      <td>False</td>\n",
       "      <td>2021-04-22 16:55:05</td>\n",
       "      <td>#IndiaNeedsOxygen #Covid #India \\n#Coronavirus...</td>\n",
       "      <td>['IndiaNeedsOxygen', 'Covid', 'India', 'Corona...</td>\n",
       "      <td>Twitter for Android</td>\n",
       "      <td>False</td>\n",
       "    </tr>\n",
       "    <tr>\n",
       "      <th>24600</th>\n",
       "      <td>Fahim Khan Al Mehdi</td>\n",
       "      <td>NaN</td>\n",
       "      <td>Noor🖤</td>\n",
       "      <td>2020-01-14 09:08:01</td>\n",
       "      <td>5</td>\n",
       "      <td>8</td>\n",
       "      <td>411</td>\n",
       "      <td>False</td>\n",
       "      <td>2021-04-24 02:39:15</td>\n",
       "      <td>Supreme Court has become  a joke. \\n\\nSC be li...</td>\n",
       "      <td>['IndiaNeedsOxygen']</td>\n",
       "      <td>Twitter for Android</td>\n",
       "      <td>False</td>\n",
       "    </tr>\n",
       "    <tr>\n",
       "      <th>12318</th>\n",
       "      <td>Prof.Munawar Hussain ch</td>\n",
       "      <td>Lahore, Pakistan</td>\n",
       "      <td>A University Prof. In Information Technologist...</td>\n",
       "      <td>2009-12-19 06:23:45</td>\n",
       "      <td>239</td>\n",
       "      <td>1010</td>\n",
       "      <td>6939</td>\n",
       "      <td>False</td>\n",
       "      <td>2021-04-22 19:49:33</td>\n",
       "      <td>Help India\\n#IndiaNeedsOxygen</td>\n",
       "      <td>['IndiaNeedsOxygen']</td>\n",
       "      <td>Twitter for Android</td>\n",
       "      <td>False</td>\n",
       "    </tr>\n",
       "    <tr>\n",
       "      <th>9459</th>\n",
       "      <td>ᗩᒪI 🔜(OMAIR HBD ♥️)</td>\n",
       "      <td>🇵🇰🇸🇦🇹🇷🇬🇧🇵🇸🇱🇾</td>\n",
       "      <td>OTS|Saudi Pakistani|Mr Lawyer❤|Prefers Humanit...</td>\n",
       "      <td>2012-04-09 11:34:36</td>\n",
       "      <td>2216</td>\n",
       "      <td>3907</td>\n",
       "      <td>18570</td>\n",
       "      <td>False</td>\n",
       "      <td>2021-04-23 03:26:16</td>\n",
       "      <td>This is India but It could be Pakistan if we d...</td>\n",
       "      <td>['PrayersForIndia', 'IndiaNeedsOxygen']</td>\n",
       "      <td>Twitter for iPhone</td>\n",
       "      <td>False</td>\n",
       "    </tr>\n",
       "    <tr>\n",
       "      <th>13181</th>\n",
       "      <td>Mian Omer🇵🇰</td>\n",
       "      <td>NaN</td>\n",
       "      <td>Spare Account 🔥 of  ( @iam_mian )        \\n#Te...</td>\n",
       "      <td>2020-01-25 11:08:52</td>\n",
       "      <td>23352</td>\n",
       "      <td>14612</td>\n",
       "      <td>46567</td>\n",
       "      <td>False</td>\n",
       "      <td>2021-04-22 17:30:11</td>\n",
       "      <td>Political differences aside,We must help India...</td>\n",
       "      <td>['IndiaNeedsOxygen']</td>\n",
       "      <td>Twitter for Android</td>\n",
       "      <td>False</td>\n",
       "    </tr>\n",
       "    <tr>\n",
       "      <th>2838</th>\n",
       "      <td>Prajwal Bedarkar</td>\n",
       "      <td>Aurangabad ( Maharashtra )</td>\n",
       "      <td>President of CESA \\n(Civil Engineering Student...</td>\n",
       "      <td>2020-05-16 15:00:59</td>\n",
       "      <td>40</td>\n",
       "      <td>36</td>\n",
       "      <td>64</td>\n",
       "      <td>False</td>\n",
       "      <td>2021-04-23 18:08:55</td>\n",
       "      <td>Everyone wants a responsible prime minister bu...</td>\n",
       "      <td>['narendramodi', 'PMOIndia', 'mygovindia', 'pa...</td>\n",
       "      <td>Twitter Web App</td>\n",
       "      <td>False</td>\n",
       "    </tr>\n",
       "    <tr>\n",
       "      <th>12618</th>\n",
       "      <td>𝒫𝒾𝓇 𝒩𝒶𝒹𝑒𝑒𝓂 🇵🇰</td>\n",
       "      <td>Mingora Swat KPK Pakistan</td>\n",
       "      <td>Project Engineer</td>\n",
       "      <td>2014-05-08 19:56:39</td>\n",
       "      <td>257</td>\n",
       "      <td>1603</td>\n",
       "      <td>11693</td>\n",
       "      <td>False</td>\n",
       "      <td>2021-04-22 19:03:36</td>\n",
       "      <td>I don’t  Know i should mention it here or not ...</td>\n",
       "      <td>['IndiaNeedsOxygen']</td>\n",
       "      <td>Twitter for iPhone</td>\n",
       "      <td>False</td>\n",
       "    </tr>\n",
       "  </tbody>\n",
       "</table>\n",
       "</div>"
      ],
      "text/plain": [
       "                     user_name               user_location  \\\n",
       "5037               Arsam Rasul                       kasur   \n",
       "18078    Hafiza_S_Maryam_Zaidi           Karachi, Pakistan   \n",
       "4995                Gargi Jain                       India   \n",
       "13366         S. Akbar Hussain                     پاکستان   \n",
       "24600      Fahim Khan Al Mehdi                         NaN   \n",
       "12318  Prof.Munawar Hussain ch            Lahore, Pakistan   \n",
       "9459       ᗩᒪI 🔜(OMAIR HBD ♥️)                🇵🇰🇸🇦🇹🇷🇬🇧🇵🇸🇱🇾   \n",
       "13181              Mian Omer🇵🇰                         NaN   \n",
       "2838          Prajwal Bedarkar  Aurangabad ( Maharashtra )   \n",
       "12618            𝒫𝒾𝓇 𝒩𝒶𝒹𝑒𝑒𝓂 🇵🇰   Mingora Swat KPK Pakistan   \n",
       "\n",
       "                                        user_description         user_created  \\\n",
       "5037                                      Out of context  2011-12-31 11:58:35   \n",
       "18078  When_Life_changes_To_Be_Harder✌️🖤\\nchange_your...  2021-01-16 10:01:33   \n",
       "4995   || Company Secretary || \\n|| Fashion, Beauty, ...  2013-06-28 15:15:57   \n",
       "13366  The more man realises his humanity the lonelie...  2013-03-07 04:51:58   \n",
       "24600                                              Noor🖤  2020-01-14 09:08:01   \n",
       "12318  A University Prof. In Information Technologist...  2009-12-19 06:23:45   \n",
       "9459   OTS|Saudi Pakistani|Mr Lawyer❤|Prefers Humanit...  2012-04-09 11:34:36   \n",
       "13181  Spare Account 🔥 of  ( @iam_mian )        \\n#Te...  2020-01-25 11:08:52   \n",
       "2838   President of CESA \\n(Civil Engineering Student...  2020-05-16 15:00:59   \n",
       "12618                                   Project Engineer  2014-05-08 19:56:39   \n",
       "\n",
       "       user_followers  user_friends  user_favourites  user_verified  \\\n",
       "5037               74           220             1028          False   \n",
       "18078             303           680              544          False   \n",
       "4995              230            39             2624          False   \n",
       "13366             311          1254             4107          False   \n",
       "24600               5             8              411          False   \n",
       "12318             239          1010             6939          False   \n",
       "9459             2216          3907            18570          False   \n",
       "13181           23352         14612            46567          False   \n",
       "2838               40            36               64          False   \n",
       "12618             257          1603            11693          False   \n",
       "\n",
       "                      date                                               text  \\\n",
       "5037   2021-04-23 14:07:03  God please protect all humans. We really need ...   \n",
       "18078  2021-04-24 15:58:00  Pray for India 💔\\n#IndiaNeedsOxygen https://t....   \n",
       "4995   2021-04-23 14:13:37  Use this machine instead of searching for oxyg...   \n",
       "13366  2021-04-22 16:55:05  #IndiaNeedsOxygen #Covid #India \\n#Coronavirus...   \n",
       "24600  2021-04-24 02:39:15  Supreme Court has become  a joke. \\n\\nSC be li...   \n",
       "12318  2021-04-22 19:49:33                      Help India\\n#IndiaNeedsOxygen   \n",
       "9459   2021-04-23 03:26:16  This is India but It could be Pakistan if we d...   \n",
       "13181  2021-04-22 17:30:11  Political differences aside,We must help India...   \n",
       "2838   2021-04-23 18:08:55  Everyone wants a responsible prime minister bu...   \n",
       "12618  2021-04-22 19:03:36  I don’t  Know i should mention it here or not ...   \n",
       "\n",
       "                                                hashtags               source  \\\n",
       "5037                     ['IndiaNeedsOxygen', 'COVID19']  Twitter for Android   \n",
       "18078                               ['IndiaNeedsOxygen']  Twitter for Android   \n",
       "4995   ['Tocilizumab', 'Remdisivir', 'Verified', 'COV...  Twitter for Android   \n",
       "13366  ['IndiaNeedsOxygen', 'Covid', 'India', 'Corona...  Twitter for Android   \n",
       "24600                               ['IndiaNeedsOxygen']  Twitter for Android   \n",
       "12318                               ['IndiaNeedsOxygen']  Twitter for Android   \n",
       "9459             ['PrayersForIndia', 'IndiaNeedsOxygen']   Twitter for iPhone   \n",
       "13181                               ['IndiaNeedsOxygen']  Twitter for Android   \n",
       "2838   ['narendramodi', 'PMOIndia', 'mygovindia', 'pa...      Twitter Web App   \n",
       "12618                               ['IndiaNeedsOxygen']   Twitter for iPhone   \n",
       "\n",
       "       is_retweet  \n",
       "5037        False  \n",
       "18078       False  \n",
       "4995        False  \n",
       "13366       False  \n",
       "24600       False  \n",
       "12318       False  \n",
       "9459        False  \n",
       "13181       False  \n",
       "2838        False  \n",
       "12618       False  "
      ]
     },
     "execution_count": 4,
     "metadata": {},
     "output_type": "execute_result"
    }
   ],
   "source": [
    "data.sample(10)"
   ]
  },
  {
   "cell_type": "code",
   "execution_count": 5,
   "id": "dress-cedar",
   "metadata": {
    "execution": {
     "iopub.execute_input": "2021-04-25T13:07:34.942657Z",
     "iopub.status.busy": "2021-04-25T13:07:34.941661Z",
     "iopub.status.idle": "2021-04-25T13:07:34.962194Z",
     "shell.execute_reply": "2021-04-25T13:07:34.962966Z"
    },
    "papermill": {
     "duration": 0.054013,
     "end_time": "2021-04-25T13:07:34.963216",
     "exception": false,
     "start_time": "2021-04-25T13:07:34.909203",
     "status": "completed"
    },
    "tags": []
   },
   "outputs": [
    {
     "name": "stdout",
     "output_type": "stream",
     "text": [
      "<class 'pandas.core.frame.DataFrame'>\n",
      "RangeIndex: 25347 entries, 0 to 25346\n",
      "Data columns (total 13 columns):\n",
      " #   Column            Non-Null Count  Dtype \n",
      "---  ------            --------------  ----- \n",
      " 0   user_name         25303 non-null  object\n",
      " 1   user_location     18351 non-null  object\n",
      " 2   user_description  22556 non-null  object\n",
      " 3   user_created      25347 non-null  object\n",
      " 4   user_followers    25347 non-null  int64 \n",
      " 5   user_friends      25347 non-null  int64 \n",
      " 6   user_favourites   25347 non-null  int64 \n",
      " 7   user_verified     25347 non-null  bool  \n",
      " 8   date              25347 non-null  object\n",
      " 9   text              25347 non-null  object\n",
      " 10  hashtags          25303 non-null  object\n",
      " 11  source            25347 non-null  object\n",
      " 12  is_retweet        25347 non-null  bool  \n",
      "dtypes: bool(2), int64(3), object(8)\n",
      "memory usage: 2.2+ MB\n"
     ]
    }
   ],
   "source": [
    "data.info()"
   ]
  },
  {
   "cell_type": "markdown",
   "id": "disturbed-undergraduate",
   "metadata": {
    "papermill": {
     "duration": 0.015988,
     "end_time": "2021-04-25T13:07:34.995655",
     "exception": false,
     "start_time": "2021-04-25T13:07:34.979667",
     "status": "completed"
    },
    "tags": []
   },
   "source": [
    "**Checking null values Counts**"
   ]
  },
  {
   "cell_type": "code",
   "execution_count": 6,
   "id": "rising-mandate",
   "metadata": {
    "execution": {
     "iopub.execute_input": "2021-04-25T13:07:35.047123Z",
     "iopub.status.busy": "2021-04-25T13:07:35.046476Z",
     "iopub.status.idle": "2021-04-25T13:07:35.052997Z",
     "shell.execute_reply": "2021-04-25T13:07:35.053461Z"
    },
    "papermill": {
     "duration": 0.040757,
     "end_time": "2021-04-25T13:07:35.053640",
     "exception": false,
     "start_time": "2021-04-25T13:07:35.012883",
     "status": "completed"
    },
    "tags": []
   },
   "outputs": [
    {
     "data": {
      "text/plain": [
       "user_name             44\n",
       "user_location       6996\n",
       "user_description    2791\n",
       "user_created           0\n",
       "user_followers         0\n",
       "user_friends           0\n",
       "user_favourites        0\n",
       "user_verified          0\n",
       "date                   0\n",
       "text                   0\n",
       "hashtags              44\n",
       "source                 0\n",
       "is_retweet             0\n",
       "dtype: int64"
      ]
     },
     "execution_count": 6,
     "metadata": {},
     "output_type": "execute_result"
    }
   ],
   "source": [
    "data.isnull().sum()"
   ]
  },
  {
   "cell_type": "markdown",
   "id": "hazardous-christmas",
   "metadata": {
    "papermill": {
     "duration": 0.01642,
     "end_time": "2021-04-25T13:07:35.086929",
     "exception": false,
     "start_time": "2021-04-25T13:07:35.070509",
     "status": "completed"
    },
    "tags": []
   },
   "source": [
    "**Records not having location value**"
   ]
  },
  {
   "cell_type": "code",
   "execution_count": 7,
   "id": "joint-mexican",
   "metadata": {
    "execution": {
     "iopub.execute_input": "2021-04-25T13:07:35.124205Z",
     "iopub.status.busy": "2021-04-25T13:07:35.123212Z",
     "iopub.status.idle": "2021-04-25T13:07:35.141975Z",
     "shell.execute_reply": "2021-04-25T13:07:35.142437Z"
    },
    "papermill": {
     "duration": 0.039475,
     "end_time": "2021-04-25T13:07:35.142617",
     "exception": false,
     "start_time": "2021-04-25T13:07:35.103142",
     "status": "completed"
    },
    "tags": []
   },
   "outputs": [
    {
     "data": {
      "text/html": [
       "<div>\n",
       "<style scoped>\n",
       "    .dataframe tbody tr th:only-of-type {\n",
       "        vertical-align: middle;\n",
       "    }\n",
       "\n",
       "    .dataframe tbody tr th {\n",
       "        vertical-align: top;\n",
       "    }\n",
       "\n",
       "    .dataframe thead th {\n",
       "        text-align: right;\n",
       "    }\n",
       "</style>\n",
       "<table border=\"1\" class=\"dataframe\">\n",
       "  <thead>\n",
       "    <tr style=\"text-align: right;\">\n",
       "      <th></th>\n",
       "      <th>user_name</th>\n",
       "      <th>user_location</th>\n",
       "      <th>user_description</th>\n",
       "      <th>user_created</th>\n",
       "      <th>user_followers</th>\n",
       "      <th>user_friends</th>\n",
       "      <th>user_favourites</th>\n",
       "      <th>user_verified</th>\n",
       "      <th>date</th>\n",
       "      <th>text</th>\n",
       "      <th>hashtags</th>\n",
       "      <th>source</th>\n",
       "      <th>is_retweet</th>\n",
       "    </tr>\n",
       "  </thead>\n",
       "  <tbody>\n",
       "    <tr>\n",
       "      <th>2</th>\n",
       "      <td>Muhammad Junaid</td>\n",
       "      <td>NaN</td>\n",
       "      <td>‏‏‏راجپوت🔥</td>\n",
       "      <td>2019-10-31 02:02:48</td>\n",
       "      <td>61</td>\n",
       "      <td>92</td>\n",
       "      <td>121</td>\n",
       "      <td>False</td>\n",
       "      <td>2021-04-23 23:59:46</td>\n",
       "      <td>Political differences aside,We must help India...</td>\n",
       "      <td>['IndiaNeedsOxygen', 'WeCantBreath']</td>\n",
       "      <td>Twitter for Android</td>\n",
       "      <td>False</td>\n",
       "    </tr>\n",
       "    <tr>\n",
       "      <th>7</th>\n",
       "      <td>Z⁷</td>\n",
       "      <td>NaN</td>\n",
       "      <td>At this point in my life as an ARMY, they all ...</td>\n",
       "      <td>2019-11-21 10:39:58</td>\n",
       "      <td>8</td>\n",
       "      <td>59</td>\n",
       "      <td>2971</td>\n",
       "      <td>False</td>\n",
       "      <td>2021-04-23 23:59:08</td>\n",
       "      <td>We pray for the safety of people in India. Sta...</td>\n",
       "      <td>['PakistanstandswithIndia', 'IndiaNeedsOxygen']</td>\n",
       "      <td>Twitter for Android</td>\n",
       "      <td>False</td>\n",
       "    </tr>\n",
       "    <tr>\n",
       "      <th>15</th>\n",
       "      <td>Asif khan</td>\n",
       "      <td>NaN</td>\n",
       "      <td>NaN</td>\n",
       "      <td>2016-11-11 17:24:48</td>\n",
       "      <td>2</td>\n",
       "      <td>59</td>\n",
       "      <td>17</td>\n",
       "      <td>False</td>\n",
       "      <td>2021-04-23 23:58:15</td>\n",
       "      <td>Two neaclear powers!\\nOne has no vaccin\\nAnd o...</td>\n",
       "      <td>['IndiaNeedsOxygen']</td>\n",
       "      <td>Twitter Web App</td>\n",
       "      <td>False</td>\n",
       "    </tr>\n",
       "    <tr>\n",
       "      <th>16</th>\n",
       "      <td>Bilal Kashif</td>\n",
       "      <td>NaN</td>\n",
       "      <td>Life is very beautiful</td>\n",
       "      <td>2021-03-04 18:27:08</td>\n",
       "      <td>110</td>\n",
       "      <td>130</td>\n",
       "      <td>156</td>\n",
       "      <td>False</td>\n",
       "      <td>2021-04-23 23:58:08</td>\n",
       "      <td>Political differences aside, i hope situation ...</td>\n",
       "      <td>['IndiaNeedsOxygen', 'PakistanstandswithIndia']</td>\n",
       "      <td>Twitter for iPhone</td>\n",
       "      <td>False</td>\n",
       "    </tr>\n",
       "    <tr>\n",
       "      <th>17</th>\n",
       "      <td>Ibrahim Rubas</td>\n",
       "      <td>NaN</td>\n",
       "      <td>Study</td>\n",
       "      <td>2019-10-04 10:32:04</td>\n",
       "      <td>0</td>\n",
       "      <td>31</td>\n",
       "      <td>128</td>\n",
       "      <td>False</td>\n",
       "      <td>2021-04-23 23:58:06</td>\n",
       "      <td>To be honest all political differences aside i...</td>\n",
       "      <td>['PakistanstandswithIndia', 'IndiaNeedsOxygen']</td>\n",
       "      <td>Twitter for Android</td>\n",
       "      <td>False</td>\n",
       "    </tr>\n",
       "  </tbody>\n",
       "</table>\n",
       "</div>"
      ],
      "text/plain": [
       "          user_name user_location  \\\n",
       "2   Muhammad Junaid           NaN   \n",
       "7                Z⁷           NaN   \n",
       "15        Asif khan           NaN   \n",
       "16     Bilal Kashif           NaN   \n",
       "17    Ibrahim Rubas           NaN   \n",
       "\n",
       "                                     user_description         user_created  \\\n",
       "2                                          ‏‏‏راجپوت🔥  2019-10-31 02:02:48   \n",
       "7   At this point in my life as an ARMY, they all ...  2019-11-21 10:39:58   \n",
       "15                                                NaN  2016-11-11 17:24:48   \n",
       "16                             Life is very beautiful  2021-03-04 18:27:08   \n",
       "17                                              Study  2019-10-04 10:32:04   \n",
       "\n",
       "    user_followers  user_friends  user_favourites  user_verified  \\\n",
       "2               61            92              121          False   \n",
       "7                8            59             2971          False   \n",
       "15               2            59               17          False   \n",
       "16             110           130              156          False   \n",
       "17               0            31              128          False   \n",
       "\n",
       "                   date                                               text  \\\n",
       "2   2021-04-23 23:59:46  Political differences aside,We must help India...   \n",
       "7   2021-04-23 23:59:08  We pray for the safety of people in India. Sta...   \n",
       "15  2021-04-23 23:58:15  Two neaclear powers!\\nOne has no vaccin\\nAnd o...   \n",
       "16  2021-04-23 23:58:08  Political differences aside, i hope situation ...   \n",
       "17  2021-04-23 23:58:06  To be honest all political differences aside i...   \n",
       "\n",
       "                                           hashtags               source  \\\n",
       "2              ['IndiaNeedsOxygen', 'WeCantBreath']  Twitter for Android   \n",
       "7   ['PakistanstandswithIndia', 'IndiaNeedsOxygen']  Twitter for Android   \n",
       "15                             ['IndiaNeedsOxygen']      Twitter Web App   \n",
       "16  ['IndiaNeedsOxygen', 'PakistanstandswithIndia']   Twitter for iPhone   \n",
       "17  ['PakistanstandswithIndia', 'IndiaNeedsOxygen']  Twitter for Android   \n",
       "\n",
       "    is_retweet  \n",
       "2        False  \n",
       "7        False  \n",
       "15       False  \n",
       "16       False  \n",
       "17       False  "
      ]
     },
     "execution_count": 7,
     "metadata": {},
     "output_type": "execute_result"
    }
   ],
   "source": [
    "data[data['user_location'].isnull().values].head()"
   ]
  },
  {
   "cell_type": "markdown",
   "id": "athletic-foundation",
   "metadata": {
    "papermill": {
     "duration": 0.018898,
     "end_time": "2021-04-25T13:07:35.180625",
     "exception": false,
     "start_time": "2021-04-25T13:07:35.161727",
     "status": "completed"
    },
    "tags": []
   },
   "source": [
    "**Records not having User name values**\n",
    "These records not usefull because Their account has been withheld"
   ]
  },
  {
   "cell_type": "code",
   "execution_count": 8,
   "id": "ranging-convenience",
   "metadata": {
    "execution": {
     "iopub.execute_input": "2021-04-25T13:07:35.224114Z",
     "iopub.status.busy": "2021-04-25T13:07:35.222973Z",
     "iopub.status.idle": "2021-04-25T13:07:35.241884Z",
     "shell.execute_reply": "2021-04-25T13:07:35.242322Z"
    },
    "papermill": {
     "duration": 0.041628,
     "end_time": "2021-04-25T13:07:35.242501",
     "exception": false,
     "start_time": "2021-04-25T13:07:35.200873",
     "status": "completed"
    },
    "tags": []
   },
   "outputs": [
    {
     "data": {
      "text/html": [
       "<div>\n",
       "<style scoped>\n",
       "    .dataframe tbody tr th:only-of-type {\n",
       "        vertical-align: middle;\n",
       "    }\n",
       "\n",
       "    .dataframe tbody tr th {\n",
       "        vertical-align: top;\n",
       "    }\n",
       "\n",
       "    .dataframe thead th {\n",
       "        text-align: right;\n",
       "    }\n",
       "</style>\n",
       "<table border=\"1\" class=\"dataframe\">\n",
       "  <thead>\n",
       "    <tr style=\"text-align: right;\">\n",
       "      <th></th>\n",
       "      <th>user_name</th>\n",
       "      <th>user_location</th>\n",
       "      <th>user_description</th>\n",
       "      <th>user_created</th>\n",
       "      <th>user_followers</th>\n",
       "      <th>user_friends</th>\n",
       "      <th>user_favourites</th>\n",
       "      <th>user_verified</th>\n",
       "      <th>date</th>\n",
       "      <th>text</th>\n",
       "      <th>hashtags</th>\n",
       "      <th>source</th>\n",
       "      <th>is_retweet</th>\n",
       "    </tr>\n",
       "  </thead>\n",
       "  <tbody>\n",
       "    <tr>\n",
       "      <th>52</th>\n",
       "      <td>NaN</td>\n",
       "      <td>NaN</td>\n",
       "      <td>@hafizmirzaki's account has been withheld in I...</td>\n",
       "      <td>2018-02-22 10:05:53</td>\n",
       "      <td>91</td>\n",
       "      <td>193</td>\n",
       "      <td>3291</td>\n",
       "      <td>False</td>\n",
       "      <td>2021-04-23 23:52:54</td>\n",
       "      <td>@hafizmirzaki's account has been withheld in I...</td>\n",
       "      <td>NaN</td>\n",
       "      <td>Twitter for Android</td>\n",
       "      <td>False</td>\n",
       "    </tr>\n",
       "    <tr>\n",
       "      <th>1057</th>\n",
       "      <td>NaN</td>\n",
       "      <td>NaN</td>\n",
       "      <td>@Flyingtastic's account has been withheld in I...</td>\n",
       "      <td>2012-01-23 07:40:43</td>\n",
       "      <td>6091</td>\n",
       "      <td>1258</td>\n",
       "      <td>171396</td>\n",
       "      <td>False</td>\n",
       "      <td>2021-04-23 21:38:23</td>\n",
       "      <td>@Flyingtastic's account has been withheld in I...</td>\n",
       "      <td>NaN</td>\n",
       "      <td>Twitter for Android</td>\n",
       "      <td>False</td>\n",
       "    </tr>\n",
       "    <tr>\n",
       "      <th>1113</th>\n",
       "      <td>NaN</td>\n",
       "      <td>NaN</td>\n",
       "      <td>@m4ammar's account has been withheld in India ...</td>\n",
       "      <td>2013-10-30 21:36:15</td>\n",
       "      <td>159</td>\n",
       "      <td>332</td>\n",
       "      <td>2410</td>\n",
       "      <td>False</td>\n",
       "      <td>2021-04-23 21:29:37</td>\n",
       "      <td>@m4ammar's account has been withheld in India ...</td>\n",
       "      <td>NaN</td>\n",
       "      <td>Twitter for Android</td>\n",
       "      <td>False</td>\n",
       "    </tr>\n",
       "    <tr>\n",
       "      <th>1744</th>\n",
       "      <td>NaN</td>\n",
       "      <td>NaN</td>\n",
       "      <td>@pak0986's account has been withheld in India ...</td>\n",
       "      <td>2020-09-17 15:09:07</td>\n",
       "      <td>506</td>\n",
       "      <td>515</td>\n",
       "      <td>4322</td>\n",
       "      <td>False</td>\n",
       "      <td>2021-04-23 20:01:59</td>\n",
       "      <td>@pak0986's account has been withheld in India ...</td>\n",
       "      <td>NaN</td>\n",
       "      <td>Twitter for Android</td>\n",
       "      <td>False</td>\n",
       "    </tr>\n",
       "    <tr>\n",
       "      <th>2243</th>\n",
       "      <td>NaN</td>\n",
       "      <td>NaN</td>\n",
       "      <td>@SajidAli7771's account has been withheld in I...</td>\n",
       "      <td>2020-04-18 05:11:49</td>\n",
       "      <td>172</td>\n",
       "      <td>628</td>\n",
       "      <td>895</td>\n",
       "      <td>False</td>\n",
       "      <td>2021-04-23 19:14:08</td>\n",
       "      <td>@SajidAli7771's account has been withheld in I...</td>\n",
       "      <td>NaN</td>\n",
       "      <td>Twitter for Android</td>\n",
       "      <td>False</td>\n",
       "    </tr>\n",
       "  </tbody>\n",
       "</table>\n",
       "</div>"
      ],
      "text/plain": [
       "     user_name user_location  \\\n",
       "52         NaN           NaN   \n",
       "1057       NaN           NaN   \n",
       "1113       NaN           NaN   \n",
       "1744       NaN           NaN   \n",
       "2243       NaN           NaN   \n",
       "\n",
       "                                       user_description         user_created  \\\n",
       "52    @hafizmirzaki's account has been withheld in I...  2018-02-22 10:05:53   \n",
       "1057  @Flyingtastic's account has been withheld in I...  2012-01-23 07:40:43   \n",
       "1113  @m4ammar's account has been withheld in India ...  2013-10-30 21:36:15   \n",
       "1744  @pak0986's account has been withheld in India ...  2020-09-17 15:09:07   \n",
       "2243  @SajidAli7771's account has been withheld in I...  2020-04-18 05:11:49   \n",
       "\n",
       "      user_followers  user_friends  user_favourites  user_verified  \\\n",
       "52                91           193             3291          False   \n",
       "1057            6091          1258           171396          False   \n",
       "1113             159           332             2410          False   \n",
       "1744             506           515             4322          False   \n",
       "2243             172           628              895          False   \n",
       "\n",
       "                     date                                               text  \\\n",
       "52    2021-04-23 23:52:54  @hafizmirzaki's account has been withheld in I...   \n",
       "1057  2021-04-23 21:38:23  @Flyingtastic's account has been withheld in I...   \n",
       "1113  2021-04-23 21:29:37  @m4ammar's account has been withheld in India ...   \n",
       "1744  2021-04-23 20:01:59  @pak0986's account has been withheld in India ...   \n",
       "2243  2021-04-23 19:14:08  @SajidAli7771's account has been withheld in I...   \n",
       "\n",
       "     hashtags               source  is_retweet  \n",
       "52        NaN  Twitter for Android       False  \n",
       "1057      NaN  Twitter for Android       False  \n",
       "1113      NaN  Twitter for Android       False  \n",
       "1744      NaN  Twitter for Android       False  \n",
       "2243      NaN  Twitter for Android       False  "
      ]
     },
     "execution_count": 8,
     "metadata": {},
     "output_type": "execute_result"
    }
   ],
   "source": [
    "data[data['user_name'].isnull().values].head()"
   ]
  },
  {
   "cell_type": "markdown",
   "id": "digital-helen",
   "metadata": {
    "papermill": {
     "duration": 0.018395,
     "end_time": "2021-04-25T13:07:35.279286",
     "exception": false,
     "start_time": "2021-04-25T13:07:35.260891",
     "status": "completed"
    },
    "tags": []
   },
   "source": [
    "**Drop Records which dont have username field**"
   ]
  },
  {
   "cell_type": "code",
   "execution_count": 9,
   "id": "auburn-jordan",
   "metadata": {
    "execution": {
     "iopub.execute_input": "2021-04-25T13:07:35.320530Z",
     "iopub.status.busy": "2021-04-25T13:07:35.319903Z",
     "iopub.status.idle": "2021-04-25T13:07:35.327776Z",
     "shell.execute_reply": "2021-04-25T13:07:35.328783Z"
    },
    "papermill": {
     "duration": 0.031192,
     "end_time": "2021-04-25T13:07:35.329021",
     "exception": false,
     "start_time": "2021-04-25T13:07:35.297829",
     "status": "completed"
    },
    "tags": []
   },
   "outputs": [
    {
     "name": "stdout",
     "output_type": "stream",
     "text": [
      "(44, 13)\n",
      "Int64Index([   52,  1057,  1113,  1744,  2243,  2480,  2701,  2748,  3903,\n",
      "             3968,  4140,  5359,  5558,  5907,  6211,  6312,  6618,  6915,\n",
      "             7200,  7421,  7943,  7961,  7984,  8327,  9085,  9491, 10599,\n",
      "            10791, 10979, 11327, 11586, 11741, 12087, 12808, 13139, 13581,\n",
      "            16827, 17533, 18213, 20687, 22246, 22572, 22703, 25053],\n",
      "           dtype='int64')\n"
     ]
    }
   ],
   "source": [
    "null_user_names= data[data['user_name'].isnull()]\n",
    "print(null_user_names.shape)\n",
    "print(null_user_names.index)"
   ]
  },
  {
   "cell_type": "code",
   "execution_count": 10,
   "id": "right-management",
   "metadata": {
    "execution": {
     "iopub.execute_input": "2021-04-25T13:07:35.369002Z",
     "iopub.status.busy": "2021-04-25T13:07:35.368370Z",
     "iopub.status.idle": "2021-04-25T13:07:35.379923Z",
     "shell.execute_reply": "2021-04-25T13:07:35.380436Z"
    },
    "papermill": {
     "duration": 0.032838,
     "end_time": "2021-04-25T13:07:35.380620",
     "exception": false,
     "start_time": "2021-04-25T13:07:35.347782",
     "status": "completed"
    },
    "tags": []
   },
   "outputs": [],
   "source": [
    "data.drop(null_user_names.index,inplace = True)"
   ]
  },
  {
   "cell_type": "code",
   "execution_count": 11,
   "id": "stopped-mixer",
   "metadata": {
    "execution": {
     "iopub.execute_input": "2021-04-25T13:07:35.423608Z",
     "iopub.status.busy": "2021-04-25T13:07:35.423025Z",
     "iopub.status.idle": "2021-04-25T13:07:35.443830Z",
     "shell.execute_reply": "2021-04-25T13:07:35.443156Z"
    },
    "papermill": {
     "duration": 0.043871,
     "end_time": "2021-04-25T13:07:35.443988",
     "exception": false,
     "start_time": "2021-04-25T13:07:35.400117",
     "status": "completed"
    },
    "tags": []
   },
   "outputs": [
    {
     "data": {
      "text/plain": [
       "user_name              0\n",
       "user_location       6952\n",
       "user_description    2791\n",
       "user_created           0\n",
       "user_followers         0\n",
       "user_friends           0\n",
       "user_favourites        0\n",
       "user_verified          0\n",
       "date                   0\n",
       "text                   0\n",
       "hashtags               0\n",
       "source                 0\n",
       "is_retweet             0\n",
       "dtype: int64"
      ]
     },
     "execution_count": 11,
     "metadata": {},
     "output_type": "execute_result"
    }
   ],
   "source": [
    "data.isnull().sum()"
   ]
  },
  {
   "cell_type": "markdown",
   "id": "primary-shelf",
   "metadata": {
    "papermill": {
     "duration": 0.020091,
     "end_time": "2021-04-25T13:07:35.483026",
     "exception": false,
     "start_time": "2021-04-25T13:07:35.462935",
     "status": "completed"
    },
    "tags": []
   },
   "source": [
    "**Count of Verified users**"
   ]
  },
  {
   "cell_type": "code",
   "execution_count": 12,
   "id": "sunset-memphis",
   "metadata": {
    "execution": {
     "iopub.execute_input": "2021-04-25T13:07:35.527199Z",
     "iopub.status.busy": "2021-04-25T13:07:35.526547Z",
     "iopub.status.idle": "2021-04-25T13:07:35.552902Z",
     "shell.execute_reply": "2021-04-25T13:07:35.552245Z"
    },
    "papermill": {
     "duration": 0.051261,
     "end_time": "2021-04-25T13:07:35.553052",
     "exception": false,
     "start_time": "2021-04-25T13:07:35.501791",
     "status": "completed"
    },
    "tags": []
   },
   "outputs": [
    {
     "data": {
      "text/plain": [
       "288"
      ]
     },
     "execution_count": 12,
     "metadata": {},
     "output_type": "execute_result"
    }
   ],
   "source": [
    "data[data.user_verified == True].user_name.count()"
   ]
  },
  {
   "cell_type": "code",
   "execution_count": 13,
   "id": "destroyed-mississippi",
   "metadata": {
    "execution": {
     "iopub.execute_input": "2021-04-25T13:07:35.596147Z",
     "iopub.status.busy": "2021-04-25T13:07:35.595350Z",
     "iopub.status.idle": "2021-04-25T13:07:35.750956Z",
     "shell.execute_reply": "2021-04-25T13:07:35.751426Z"
    },
    "papermill": {
     "duration": 0.179541,
     "end_time": "2021-04-25T13:07:35.751613",
     "exception": false,
     "start_time": "2021-04-25T13:07:35.572072",
     "status": "completed"
    },
    "tags": []
   },
   "outputs": [
    {
     "name": "stderr",
     "output_type": "stream",
     "text": [
      "/opt/conda/lib/python3.7/site-packages/seaborn/_decorators.py:43: FutureWarning: Pass the following variable as a keyword arg: x. From version 0.12, the only valid positional argument will be `data`, and passing other arguments without an explicit keyword will result in an error or misinterpretation.\n",
      "  FutureWarning\n"
     ]
    },
    {
     "data": {
      "text/plain": [
       "Text(0.5, 0, 'Verified users')"
      ]
     },
     "execution_count": 13,
     "metadata": {},
     "output_type": "execute_result"
    },
    {
     "data": {
      "image/png": "[encoded data removed]",
      "text/plain": [
       "<Figure size 432x288 with 1 Axes>"
      ]
     },
     "metadata": {
      "needs_background": "light"
     },
     "output_type": "display_data"
    }
   ],
   "source": [
    "sns.countplot(data['user_verified'])\n",
    "plt.xlabel('Verified users')"
   ]
  },
  {
   "cell_type": "markdown",
   "id": "green-aviation",
   "metadata": {
    "papermill": {
     "duration": 0.021045,
     "end_time": "2021-04-25T13:07:35.793571",
     "exception": false,
     "start_time": "2021-04-25T13:07:35.772526",
     "status": "completed"
    },
    "tags": []
   },
   "source": [
    "**Change  Datatype of Date column**"
   ]
  },
  {
   "cell_type": "code",
   "execution_count": 14,
   "id": "paperback-official",
   "metadata": {
    "execution": {
     "iopub.execute_input": "2021-04-25T13:07:35.848003Z",
     "iopub.status.busy": "2021-04-25T13:07:35.847237Z",
     "iopub.status.idle": "2021-04-25T13:07:35.856481Z",
     "shell.execute_reply": "2021-04-25T13:07:35.855975Z"
    },
    "papermill": {
     "duration": 0.042435,
     "end_time": "2021-04-25T13:07:35.856619",
     "exception": false,
     "start_time": "2021-04-25T13:07:35.814184",
     "status": "completed"
    },
    "tags": []
   },
   "outputs": [],
   "source": [
    "data['date'] = pd.to_datetime(data['date'])"
   ]
  },
  {
   "cell_type": "code",
   "execution_count": 15,
   "id": "academic-eagle",
   "metadata": {
    "execution": {
     "iopub.execute_input": "2021-04-25T13:07:35.903590Z",
     "iopub.status.busy": "2021-04-25T13:07:35.902983Z",
     "iopub.status.idle": "2021-04-25T13:07:35.912489Z",
     "shell.execute_reply": "2021-04-25T13:07:35.911717Z"
    },
    "papermill": {
     "duration": 0.035336,
     "end_time": "2021-04-25T13:07:35.912694",
     "exception": false,
     "start_time": "2021-04-25T13:07:35.877358",
     "status": "completed"
    },
    "tags": []
   },
   "outputs": [
    {
     "data": {
      "text/plain": [
       "23    10343\n",
       "24     9176\n",
       "22     4534\n",
       "21     1248\n",
       "20        2\n",
       "Name: date, dtype: int64"
      ]
     },
     "execution_count": 15,
     "metadata": {},
     "output_type": "execute_result"
    }
   ],
   "source": [
    "data.date.dt.day.value_counts()"
   ]
  },
  {
   "cell_type": "markdown",
   "id": "digital-default",
   "metadata": {
    "papermill": {
     "duration": 0.019878,
     "end_time": "2021-04-25T13:07:35.953375",
     "exception": false,
     "start_time": "2021-04-25T13:07:35.933497",
     "status": "completed"
    },
    "tags": []
   },
   "source": [
    "**Day wise analysis of count of tweets**"
   ]
  },
  {
   "cell_type": "code",
   "execution_count": 16,
   "id": "romance-citizen",
   "metadata": {
    "execution": {
     "iopub.execute_input": "2021-04-25T13:07:36.001269Z",
     "iopub.status.busy": "2021-04-25T13:07:36.000543Z",
     "iopub.status.idle": "2021-04-25T13:07:36.438794Z",
     "shell.execute_reply": "2021-04-25T13:07:36.439286Z"
    },
    "papermill": {
     "duration": 0.464815,
     "end_time": "2021-04-25T13:07:36.439482",
     "exception": false,
     "start_time": "2021-04-25T13:07:35.974667",
     "status": "completed"
    },
    "tags": []
   },
   "outputs": [
    {
     "data": {
      "text/plain": [
       "Text(-8.700000000000003, 0.5, 'tweet counts')"
      ]
     },
     "execution_count": 16,
     "metadata": {},
     "output_type": "execute_result"
    },
    {
     "data": {
      "image/png": "[encoded data removed]",
      "text/plain": [
       "<Figure size 360x360 with 1 Axes>"
      ]
     },
     "metadata": {
      "needs_background": "light"
     },
     "output_type": "display_data"
    }
   ],
   "source": [
    "sns.catplot(data = data,  kind=\"bar\",\n",
    "            x=data.date.dt.day.value_counts().index, \n",
    "            y=data.date.dt.day.value_counts().values)\n",
    "plt.xlabel('Day in March')\n",
    "plt.ylabel('tweet counts')"
   ]
  },
  {
   "cell_type": "markdown",
   "id": "velvet-sunglasses",
   "metadata": {
    "papermill": {
     "duration": 0.022422,
     "end_time": "2021-04-25T13:07:36.484076",
     "exception": false,
     "start_time": "2021-04-25T13:07:36.461654",
     "status": "completed"
    },
    "tags": []
   },
   "source": [
    "**Count of various Sources people used to tweet**"
   ]
  },
  {
   "cell_type": "code",
   "execution_count": 17,
   "id": "alpine-scenario",
   "metadata": {
    "execution": {
     "iopub.execute_input": "2021-04-25T13:07:36.540599Z",
     "iopub.status.busy": "2021-04-25T13:07:36.539705Z",
     "iopub.status.idle": "2021-04-25T13:07:36.545419Z",
     "shell.execute_reply": "2021-04-25T13:07:36.544832Z"
    },
    "papermill": {
     "duration": 0.038342,
     "end_time": "2021-04-25T13:07:36.545555",
     "exception": false,
     "start_time": "2021-04-25T13:07:36.507213",
     "status": "completed"
    },
    "tags": []
   },
   "outputs": [
    {
     "data": {
      "text/plain": [
       "Twitter for Android         17418\n",
       "Twitter for iPhone           4383\n",
       "Twitter Web App              3265\n",
       "Twitter for iPad              120\n",
       "TweetDeck                      46\n",
       "Hootsuite Inc.                 13\n",
       "KhuramKTS                      13\n",
       "Microsoft Power Platform        5\n",
       "Twitter for Mac                 5\n",
       "LinkedIn                        4\n",
       "Name: source, dtype: int64"
      ]
     },
     "execution_count": 17,
     "metadata": {},
     "output_type": "execute_result"
    }
   ],
   "source": [
    "data.source.value_counts().head(10)"
   ]
  },
  {
   "cell_type": "markdown",
   "id": "agricultural-murder",
   "metadata": {
    "papermill": {
     "duration": 0.022091,
     "end_time": "2021-04-25T13:07:36.589593",
     "exception": false,
     "start_time": "2021-04-25T13:07:36.567502",
     "status": "completed"
    },
    "tags": []
   },
   "source": [
    "**Top 10 hashtags used in tweets**"
   ]
  },
  {
   "cell_type": "code",
   "execution_count": 18,
   "id": "green-reservation",
   "metadata": {
    "execution": {
     "iopub.execute_input": "2021-04-25T13:07:36.643070Z",
     "iopub.status.busy": "2021-04-25T13:07:36.642349Z",
     "iopub.status.idle": "2021-04-25T13:07:36.649142Z",
     "shell.execute_reply": "2021-04-25T13:07:36.649543Z"
    },
    "papermill": {
     "duration": 0.039338,
     "end_time": "2021-04-25T13:07:36.649719",
     "exception": false,
     "start_time": "2021-04-25T13:07:36.610381",
     "status": "completed"
    },
    "tags": []
   },
   "outputs": [
    {
     "data": {
      "text/plain": [
       "['IndiaNeedsOxygen']                               6603\n",
       "['IndiaNeedsOxygen', 'PakistanstandswithIndia']     777\n",
       "['IndiaNeedsOxygen', 'IndianLivesMatter']           637\n",
       "['PakistanstandswithIndia', 'IndiaNeedsOxygen']     542\n",
       "['CovidIndia', 'IndiaNeedsOxygen']                  258\n",
       "['indianeedsoxygen']                                236\n",
       "['IndianLivesMatter', 'IndiaNeedsOxygen']           221\n",
       "['IndiaNeedsOxygen', 'CovidIndia']                  213\n",
       "['India', 'IndiaNeedsOxygen']                       182\n",
       "['IndiaNeedsOxygen', 'IndiaFightsCOVID19']          117\n",
       "Name: hashtags, dtype: int64"
      ]
     },
     "execution_count": 18,
     "metadata": {},
     "output_type": "execute_result"
    }
   ],
   "source": [
    "data.hashtags.value_counts().head(10)"
   ]
  },
  {
   "cell_type": "code",
   "execution_count": 19,
   "id": "solved-curtis",
   "metadata": {
    "execution": {
     "iopub.execute_input": "2021-04-25T13:07:36.705537Z",
     "iopub.status.busy": "2021-04-25T13:07:36.704892Z",
     "iopub.status.idle": "2021-04-25T13:07:37.081514Z",
     "shell.execute_reply": "2021-04-25T13:07:37.080742Z"
    },
    "papermill": {
     "duration": 0.41049,
     "end_time": "2021-04-25T13:07:37.081665",
     "exception": false,
     "start_time": "2021-04-25T13:07:36.671175",
     "status": "completed"
    },
    "tags": []
   },
   "outputs": [
    {
     "data": {
      "text/plain": [
       "(array([0, 1, 2, 3, 4]),\n",
       " [Text(0, 0, \"['IndiaNeedsOxygen']\"),\n",
       "  Text(1, 0, \"['IndiaNeedsOxygen', 'PakistanstandswithIndia']\"),\n",
       "  Text(2, 0, \"['IndiaNeedsOxygen', 'IndianLivesMatter']\"),\n",
       "  Text(3, 0, \"['PakistanstandswithIndia', 'IndiaNeedsOxygen']\"),\n",
       "  Text(4, 0, \"['CovidIndia', 'IndiaNeedsOxygen']\")])"
      ]
     },
     "execution_count": 19,
     "metadata": {},
     "output_type": "execute_result"
    },
    {
     "data": {
      "text/plain": [
       "<Figure size 720x576 with 0 Axes>"
      ]
     },
     "metadata": {},
     "output_type": "display_data"
    },
    {
     "data": {
      "image/png": "[encoded data removed]",
      "text/plain": [
       "<Figure size 360x360 with 1 Axes>"
      ]
     },
     "metadata": {
      "needs_background": "light"
     },
     "output_type": "display_data"
    }
   ],
   "source": [
    "plt.figure(figsize=(10,8))\n",
    "g = sns.catplot(\n",
    "    data = data, kind = \"bar\",\n",
    "    x = data.hashtags.value_counts().head().index,\n",
    "    y = data.hashtags.value_counts().head().values)\n",
    "plt.xticks(rotation = 90)"
   ]
  }
 ],
 "metadata": {
  "kernelspec": {
   "display_name": "Python 3",
   "language": "python",
   "name": "python3"
  },
  "language_info": {
   "codemirror_mode": {
    "name": "ipython",
    "version": 3
   },
   "file_extension": ".py",
   "mimetype": "text/x-python",
   "name": "python",
   "nbconvert_exporter": "python",
   "pygments_lexer": "ipython3",
   "version": "3.7.10"
  },
  "papermill": {
   "default_parameters": {},
   "duration": 12.637756,
   "end_time": "2021-04-25T13:07:37.820761",
   "environment_variables": {},
   "exception": null,
   "input_path": "__notebook__.ipynb",
   "output_path": "__notebook__.ipynb",
   "parameters": {},
   "start_time": "2021-04-25T13:07:25.183005",
   "version": "2.3.3"
  }
 },
 "nbformat": 4,
 "nbformat_minor": 5
}
