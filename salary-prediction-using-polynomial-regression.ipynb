{
 "cells": [
  {
   "cell_type": "code",
   "execution_count": 1,
   "id": "diagnostic-boxing",
   "metadata": {
    "_cell_guid": "b1076dfc-b9ad-4769-8c92-a6c4dae69d19",
    "_uuid": "8f2839f25d086af736a60e9eeb907d3b93b6e0e5",
    "execution": {
     "iopub.execute_input": "2021-05-23T06:35:01.227118Z",
     "iopub.status.busy": "2021-05-23T06:35:01.226639Z",
     "iopub.status.idle": "2021-05-23T06:35:01.247522Z",
     "shell.execute_reply": "2021-05-23T06:35:01.247021Z",
     "shell.execute_reply.started": "2021-05-23T06:33:09.355971Z"
    },
    "papermill": {
     "duration": 0.034142,
     "end_time": "2021-05-23T06:35:01.247648",
     "exception": false,
     "start_time": "2021-05-23T06:35:01.213506",
     "status": "completed"
    },
    "tags": []
   },
   "outputs": [
    {
     "name": "stdout",
     "output_type": "stream",
     "text": [
      "/kaggle/input/position-salary-dataset/Position_Salaries.csv\n"
     ]
    }
   ],
   "source": [
    "# This Python 3 environment comes with many helpful analytics libraries installed\n",
    "# It is defined by the kaggle/python Docker image: https://github.com/kaggle/docker-python\n",
    "# For example, here's several helpful packages to load\n",
    "\n",
    "import numpy as np # linear algebra\n",
    "import pandas as pd # data processing, CSV file I/O (e.g. pd.read_csv)\n",
    "import matplotlib.pyplot as plt\n",
    "\n",
    "# Input data files are available in the read-only \"../input/\" directory\n",
    "# For example, running this (by clicking run or pressing Shift+Enter) will list all files under the input directory\n",
    "\n",
    "import os\n",
    "for dirname, _, filenames in os.walk('/kaggle/input'):\n",
    "    for filename in filenames:\n",
    "        print(os.path.join(dirname, filename))\n",
    "\n",
    "# You can write up to 20GB to the current directory (/kaggle/working/) that gets preserved as output when you create a version using \"Save & Run All\" \n",
    "# You can also write temporary files to /kaggle/temp/, but they won't be saved outside of the current session"
   ]
  },
  {
   "cell_type": "code",
   "execution_count": 2,
   "id": "mineral-pavilion",
   "metadata": {
    "execution": {
     "iopub.execute_input": "2021-05-23T06:35:01.271436Z",
     "iopub.status.busy": "2021-05-23T06:35:01.270803Z",
     "iopub.status.idle": "2021-05-23T06:35:01.299254Z",
     "shell.execute_reply": "2021-05-23T06:35:01.298694Z",
     "shell.execute_reply.started": "2021-05-23T06:33:09.369631Z"
    },
    "papermill": {
     "duration": 0.042029,
     "end_time": "2021-05-23T06:35:01.299405",
     "exception": false,
     "start_time": "2021-05-23T06:35:01.257376",
     "status": "completed"
    },
    "tags": []
   },
   "outputs": [
    {
     "data": {
      "text/html": [
       "<div>\n",
       "<style scoped>\n",
       "    .dataframe tbody tr th:only-of-type {\n",
       "        vertical-align: middle;\n",
       "    }\n",
       "\n",
       "    .dataframe tbody tr th {\n",
       "        vertical-align: top;\n",
       "    }\n",
       "\n",
       "    .dataframe thead th {\n",
       "        text-align: right;\n",
       "    }\n",
       "</style>\n",
       "<table border=\"1\" class=\"dataframe\">\n",
       "  <thead>\n",
       "    <tr style=\"text-align: right;\">\n",
       "      <th></th>\n",
       "      <th>Position</th>\n",
       "      <th>Level</th>\n",
       "      <th>Salary</th>\n",
       "    </tr>\n",
       "  </thead>\n",
       "  <tbody>\n",
       "    <tr>\n",
       "      <th>0</th>\n",
       "      <td>Business Analyst</td>\n",
       "      <td>1</td>\n",
       "      <td>45000</td>\n",
       "    </tr>\n",
       "    <tr>\n",
       "      <th>1</th>\n",
       "      <td>Junior Consultant</td>\n",
       "      <td>2</td>\n",
       "      <td>50000</td>\n",
       "    </tr>\n",
       "    <tr>\n",
       "      <th>2</th>\n",
       "      <td>Senior Consultant</td>\n",
       "      <td>3</td>\n",
       "      <td>60000</td>\n",
       "    </tr>\n",
       "    <tr>\n",
       "      <th>3</th>\n",
       "      <td>Manager</td>\n",
       "      <td>4</td>\n",
       "      <td>80000</td>\n",
       "    </tr>\n",
       "    <tr>\n",
       "      <th>4</th>\n",
       "      <td>Country Manager</td>\n",
       "      <td>5</td>\n",
       "      <td>110000</td>\n",
       "    </tr>\n",
       "    <tr>\n",
       "      <th>5</th>\n",
       "      <td>Region Manager</td>\n",
       "      <td>6</td>\n",
       "      <td>150000</td>\n",
       "    </tr>\n",
       "    <tr>\n",
       "      <th>6</th>\n",
       "      <td>Partner</td>\n",
       "      <td>7</td>\n",
       "      <td>200000</td>\n",
       "    </tr>\n",
       "    <tr>\n",
       "      <th>7</th>\n",
       "      <td>Senior Partner</td>\n",
       "      <td>8</td>\n",
       "      <td>300000</td>\n",
       "    </tr>\n",
       "    <tr>\n",
       "      <th>8</th>\n",
       "      <td>C-level</td>\n",
       "      <td>9</td>\n",
       "      <td>500000</td>\n",
       "    </tr>\n",
       "    <tr>\n",
       "      <th>9</th>\n",
       "      <td>CEO</td>\n",
       "      <td>10</td>\n",
       "      <td>1000000</td>\n",
       "    </tr>\n",
       "  </tbody>\n",
       "</table>\n",
       "</div>"
      ],
      "text/plain": [
       "            Position  Level   Salary\n",
       "0   Business Analyst      1    45000\n",
       "1  Junior Consultant      2    50000\n",
       "2  Senior Consultant      3    60000\n",
       "3            Manager      4    80000\n",
       "4    Country Manager      5   110000\n",
       "5     Region Manager      6   150000\n",
       "6            Partner      7   200000\n",
       "7     Senior Partner      8   300000\n",
       "8            C-level      9   500000\n",
       "9                CEO     10  1000000"
      ]
     },
     "execution_count": 2,
     "metadata": {},
     "output_type": "execute_result"
    }
   ],
   "source": [
    "data = pd.read_csv('../input/position-salary-dataset/Position_Salaries.csv')\n",
    "data"
   ]
  },
  {
   "cell_type": "code",
   "execution_count": 3,
   "id": "arranged-studio",
   "metadata": {
    "execution": {
     "iopub.execute_input": "2021-05-23T06:35:01.332805Z",
     "iopub.status.busy": "2021-05-23T06:35:01.332185Z",
     "iopub.status.idle": "2021-05-23T06:35:01.333526Z",
     "shell.execute_reply": "2021-05-23T06:35:01.333992Z",
     "shell.execute_reply.started": "2021-05-23T06:33:09.399145Z"
    },
    "papermill": {
     "duration": 0.020273,
     "end_time": "2021-05-23T06:35:01.334148",
     "exception": false,
     "start_time": "2021-05-23T06:35:01.313875",
     "status": "completed"
    },
    "tags": []
   },
   "outputs": [],
   "source": [
    "X = data.iloc[:, 1:-1]\n",
    "y = data.iloc[:, -1]"
   ]
  },
  {
   "cell_type": "code",
   "execution_count": 4,
   "id": "southern-demonstration",
   "metadata": {
    "execution": {
     "iopub.execute_input": "2021-05-23T06:35:01.366120Z",
     "iopub.status.busy": "2021-05-23T06:35:01.365528Z",
     "iopub.status.idle": "2021-05-23T06:35:01.369040Z",
     "shell.execute_reply": "2021-05-23T06:35:01.369552Z",
     "shell.execute_reply.started": "2021-05-23T06:33:09.414071Z"
    },
    "papermill": {
     "duration": 0.021181,
     "end_time": "2021-05-23T06:35:01.369695",
     "exception": false,
     "start_time": "2021-05-23T06:35:01.348514",
     "status": "completed"
    },
    "tags": []
   },
   "outputs": [
    {
     "data": {
      "text/plain": [
       "(10, 1)"
      ]
     },
     "execution_count": 4,
     "metadata": {},
     "output_type": "execute_result"
    }
   ],
   "source": [
    "X.shape"
   ]
  },
  {
   "cell_type": "code",
   "execution_count": 5,
   "id": "found-single",
   "metadata": {
    "execution": {
     "iopub.execute_input": "2021-05-23T06:35:01.401518Z",
     "iopub.status.busy": "2021-05-23T06:35:01.400918Z",
     "iopub.status.idle": "2021-05-23T06:35:01.405526Z",
     "shell.execute_reply": "2021-05-23T06:35:01.405907Z",
     "shell.execute_reply.started": "2021-05-23T06:33:09.434941Z"
    },
    "papermill": {
     "duration": 0.021744,
     "end_time": "2021-05-23T06:35:01.406058",
     "exception": false,
     "start_time": "2021-05-23T06:35:01.384314",
     "status": "completed"
    },
    "tags": []
   },
   "outputs": [
    {
     "data": {
      "text/plain": [
       "(10,)"
      ]
     },
     "execution_count": 5,
     "metadata": {},
     "output_type": "execute_result"
    }
   ],
   "source": [
    "y.shape"
   ]
  },
  {
   "cell_type": "code",
   "execution_count": 6,
   "id": "multiple-manual",
   "metadata": {
    "execution": {
     "iopub.execute_input": "2021-05-23T06:35:01.430091Z",
     "iopub.status.busy": "2021-05-23T06:35:01.429574Z",
     "iopub.status.idle": "2021-05-23T06:35:01.590836Z",
     "shell.execute_reply": "2021-05-23T06:35:01.590350Z",
     "shell.execute_reply.started": "2021-05-23T06:33:09.454298Z"
    },
    "papermill": {
     "duration": 0.174328,
     "end_time": "2021-05-23T06:35:01.590960",
     "exception": false,
     "start_time": "2021-05-23T06:35:01.416632",
     "status": "completed"
    },
    "tags": []
   },
   "outputs": [
    {
     "data": {
      "text/plain": [
       "Text(0, 0.5, 'Salary')"
      ]
     },
     "execution_count": 6,
     "metadata": {},
     "output_type": "execute_result"
    },
    {
     "data": {
      "image/png": "[encoded data removed]",
      "text/plain": [
       "<Figure size 432x288 with 1 Axes>"
      ]
     },
     "metadata": {
      "needs_background": "light"
     },
     "output_type": "display_data"
    }
   ],
   "source": [
    "plt.scatter(X,y)\n",
    "plt.xlabel('Level')\n",
    "plt.ylabel('Salary')"
   ]
  },
  {
   "cell_type": "code",
   "execution_count": 7,
   "id": "cloudy-company",
   "metadata": {
    "execution": {
     "iopub.execute_input": "2021-05-23T06:35:01.616764Z",
     "iopub.status.busy": "2021-05-23T06:35:01.616275Z",
     "iopub.status.idle": "2021-05-23T06:35:02.683904Z",
     "shell.execute_reply": "2021-05-23T06:35:02.684313Z",
     "shell.execute_reply.started": "2021-05-23T06:33:09.620354Z"
    },
    "papermill": {
     "duration": 1.082667,
     "end_time": "2021-05-23T06:35:02.684440",
     "exception": false,
     "start_time": "2021-05-23T06:35:01.601773",
     "status": "completed"
    },
    "tags": []
   },
   "outputs": [
    {
     "data": {
      "text/plain": [
       "LinearRegression()"
      ]
     },
     "execution_count": 7,
     "metadata": {},
     "output_type": "execute_result"
    }
   ],
   "source": [
    "from sklearn.linear_model import LinearRegression\n",
    "from sklearn.preprocessing import PolynomialFeatures\n",
    "poly_reg = PolynomialFeatures(degree = 3)\n",
    "X_poly = poly_reg.fit_transform(X)\n",
    "model = LinearRegression()\n",
    "model.fit(X_poly, y)"
   ]
  },
  {
   "cell_type": "code",
   "execution_count": 8,
   "id": "breathing-partnership",
   "metadata": {
    "execution": {
     "iopub.execute_input": "2021-05-23T06:35:02.740406Z",
     "iopub.status.busy": "2021-05-23T06:35:02.739531Z",
     "iopub.status.idle": "2021-05-23T06:35:02.830320Z",
     "shell.execute_reply": "2021-05-23T06:35:02.829789Z",
     "shell.execute_reply.started": "2021-05-23T06:33:09.638087Z"
    },
    "papermill": {
     "duration": 0.13491,
     "end_time": "2021-05-23T06:35:02.830443",
     "exception": false,
     "start_time": "2021-05-23T06:35:02.695533",
     "status": "completed"
    },
    "tags": []
   },
   "outputs": [
    {
     "data": {
      "text/plain": [
       "Text(0, 0.5, 'Salary')"
      ]
     },
     "execution_count": 8,
     "metadata": {},
     "output_type": "execute_result"
    },
    {
     "data": {
      "image/png": "[encoded data removed]",
      "text/plain": [
       "<Figure size 432x288 with 1 Axes>"
      ]
     },
     "metadata": {
      "needs_background": "light"
     },
     "output_type": "display_data"
    }
   ],
   "source": [
    "plt.scatter(X, y, color = 'red')\n",
    "plt.plot(X, model.predict(poly_reg.fit_transform(X)), color = 'blue')\n",
    "plt.xlabel('Position level')\n",
    "plt.ylabel('Salary')"
   ]
  },
  {
   "cell_type": "markdown",
   "id": "russian-privilege",
   "metadata": {
    "papermill": {
     "duration": 0.017149,
     "end_time": "2021-05-23T06:35:02.865067",
     "exception": false,
     "start_time": "2021-05-23T06:35:02.847918",
     "status": "completed"
    },
    "tags": []
   },
   "source": [
    "### **Predicting random Values of level**"
   ]
  },
  {
   "cell_type": "code",
   "execution_count": 9,
   "id": "postal-capitol",
   "metadata": {
    "execution": {
     "iopub.execute_input": "2021-05-23T06:35:02.905884Z",
     "iopub.status.busy": "2021-05-23T06:35:02.905136Z",
     "iopub.status.idle": "2021-05-23T06:35:02.908505Z",
     "shell.execute_reply": "2021-05-23T06:35:02.909066Z",
     "shell.execute_reply.started": "2021-05-23T06:33:09.820817Z"
    },
    "papermill": {
     "duration": 0.026458,
     "end_time": "2021-05-23T06:35:02.909226",
     "exception": false,
     "start_time": "2021-05-23T06:35:02.882768",
     "status": "completed"
    },
    "tags": []
   },
   "outputs": [
    {
     "data": {
      "text/plain": [
       "array([83979.16666666])"
      ]
     },
     "execution_count": 9,
     "metadata": {},
     "output_type": "execute_result"
    }
   ],
   "source": [
    "model.predict(poly_reg.fit_transform([[4.5]]))"
   ]
  },
  {
   "cell_type": "code",
   "execution_count": 10,
   "id": "developed-choice",
   "metadata": {
    "execution": {
     "iopub.execute_input": "2021-05-23T06:35:02.964308Z",
     "iopub.status.busy": "2021-05-23T06:35:02.963587Z",
     "iopub.status.idle": "2021-05-23T06:35:03.058859Z",
     "shell.execute_reply": "2021-05-23T06:35:03.059384Z",
     "shell.execute_reply.started": "2021-05-23T06:33:09.831375Z"
    },
    "papermill": {
     "duration": 0.13139,
     "end_time": "2021-05-23T06:35:03.059559",
     "exception": false,
     "start_time": "2021-05-23T06:35:02.928169",
     "status": "completed"
    },
    "tags": []
   },
   "outputs": [
    {
     "data": {
      "text/plain": [
       "Text(0, 0.5, 'Salary')"
      ]
     },
     "execution_count": 10,
     "metadata": {},
     "output_type": "execute_result"
    },
    {
     "data": {
      "image/png": "[encoded data removed]",
      "text/plain": [
       "<Figure size 432x288 with 1 Axes>"
      ]
     },
     "metadata": {
      "needs_background": "light"
     },
     "output_type": "display_data"
    }
   ],
   "source": [
    "plt.scatter(4.5,\n",
    "            model.predict(poly_reg.fit_transform([[4.5]])), \n",
    "            color = 'green')\n",
    "plt.plot(X, \n",
    "         model.predict(poly_reg.fit_transform(X)), \n",
    "         color = 'blue')\n",
    "plt.xlabel('Position level')\n",
    "plt.ylabel('Salary')"
   ]
  },
  {
   "cell_type": "code",
   "execution_count": 11,
   "id": "typical-timothy",
   "metadata": {
    "execution": {
     "iopub.execute_input": "2021-05-23T06:35:03.104629Z",
     "iopub.status.busy": "2021-05-23T06:35:03.104091Z",
     "iopub.status.idle": "2021-05-23T06:35:03.107372Z",
     "shell.execute_reply": "2021-05-23T06:35:03.106954Z",
     "shell.execute_reply.started": "2021-05-23T06:33:10.005100Z"
    },
    "papermill": {
     "duration": 0.027937,
     "end_time": "2021-05-23T06:35:03.107476",
     "exception": false,
     "start_time": "2021-05-23T06:35:03.079539",
     "status": "completed"
    },
    "tags": []
   },
   "outputs": [
    {
     "data": {
      "text/plain": [
       "array([240915.35547786])"
      ]
     },
     "execution_count": 11,
     "metadata": {},
     "output_type": "execute_result"
    }
   ],
   "source": [
    "model.predict(poly_reg.fit_transform([[7.5]]))"
   ]
  },
  {
   "cell_type": "code",
   "execution_count": 12,
   "id": "minimal-greensboro",
   "metadata": {
    "execution": {
     "iopub.execute_input": "2021-05-23T06:35:03.161998Z",
     "iopub.status.busy": "2021-05-23T06:35:03.142913Z",
     "iopub.status.idle": "2021-05-23T06:35:03.251518Z",
     "shell.execute_reply": "2021-05-23T06:35:03.251098Z",
     "shell.execute_reply.started": "2021-05-23T06:33:10.014342Z"
    },
    "papermill": {
     "duration": 0.130642,
     "end_time": "2021-05-23T06:35:03.251627",
     "exception": false,
     "start_time": "2021-05-23T06:35:03.120985",
     "status": "completed"
    },
    "tags": []
   },
   "outputs": [
    {
     "data": {
      "text/plain": [
       "Text(0, 0.5, 'Salary')"
      ]
     },
     "execution_count": 12,
     "metadata": {},
     "output_type": "execute_result"
    },
    {
     "data": {
      "image/png": "[encoded data removed]",
      "text/plain": [
       "<Figure size 432x288 with 1 Axes>"
      ]
     },
     "metadata": {
      "needs_background": "light"
     },
     "output_type": "display_data"
    }
   ],
   "source": [
    "plt.scatter(7.5,\n",
    "            model.predict(poly_reg.fit_transform([[7.5]])), \n",
    "            color = 'green')\n",
    "plt.plot(X, \n",
    "         model.predict(poly_reg.fit_transform(X)), \n",
    "         color = 'blue')\n",
    "plt.xlabel('Position level')\n",
    "plt.ylabel('Salary')"
   ]
  }
 ],
 "metadata": {
  "kernelspec": {
   "display_name": "Python 3",
   "language": "python",
   "name": "python3"
  },
  "language_info": {
   "codemirror_mode": {
    "name": "ipython",
    "version": 3
   },
   "file_extension": ".py",
   "mimetype": "text/x-python",
   "name": "python",
   "nbconvert_exporter": "python",
   "pygments_lexer": "ipython3",
   "version": "3.7.10"
  },
  "papermill": {
   "default_parameters": {},
   "duration": 9.253867,
   "end_time": "2021-05-23T06:35:03.874900",
   "environment_variables": {},
   "exception": null,
   "input_path": "__notebook__.ipynb",
   "output_path": "__notebook__.ipynb",
   "parameters": {},
   "start_time": "2021-05-23T06:34:54.621033",
   "version": "2.3.3"
  }
 },
 "nbformat": 4,
 "nbformat_minor": 5
}
